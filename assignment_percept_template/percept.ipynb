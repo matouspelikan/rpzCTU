{
 "cells": [
  {
   "cell_type": "markdown",
   "metadata": {},
   "source": [
    "# Task 07 - Introduction to Discriminative Models - The Perceptron Algorithm\n",
    "## Pattern Recognition and Machine Learning"
   ]
  },
  {
   "cell_type": "markdown",
   "metadata": {},
   "source": [
    "Copy and import needed files/methods from previous assignment to this directory. \n",
    "Adding path to the previous assignment is not sufficient. Upload system\n",
    "requires your code to be self contained."
   ]
  },
  {
   "cell_type": "code",
   "execution_count": null,
   "metadata": {},
   "outputs": [],
   "source": [
    "# uncomment following for interactive matplotlib\n",
    "# %matplotlib notebook\n",
    "\n",
    "from percept import *\n",
    "import scipy.io\n",
    "import numpy as np\n",
    "import matplotlib.pyplot as plt"
   ]
  },
  {
   "cell_type": "markdown",
   "metadata": {},
   "source": [
    "## init"
   ]
  },
  {
   "cell_type": "code",
   "execution_count": null,
   "metadata": {},
   "outputs": [],
   "source": [
    "def unwrap(data):\n",
    "    \"\"\"\n",
    "    Simple \"hack\" for preparing data from *.mat files\n",
    "    \"\"\"\n",
    "    try:\n",
    "        while (len(data) == 1) and (len(data.shape) > 0):\n",
    "            data = data[0]\n",
    "        for key in list(data.dtype.names):\n",
    "            data[key] = unwrap(data[key])\n",
    "    except:\n",
    "        pass\n",
    "    return data\n",
    "\n",
    "def ndarray2dict(data, indexes=None):\n",
    "    outputs = {}\n",
    "    for key in list(data.dtype.names):\n",
    "        value = unwrap(data[key])\n",
    "        try:\n",
    "            if len(value.shape) > 0:\n",
    "                value = np.atleast_2d(value)\n",
    "        except:\n",
    "            pass\n",
    "        outputs[key] = value\n",
    "    if indexes is not None:\n",
    "        for key in indexes:\n",
    "            outputs[key] -= 1\n",
    "    return outputs"
   ]
  },
  {
   "cell_type": "markdown",
   "metadata": {},
   "source": [
    "## Task 1 - separable\n",
    "#### choose data from following:"
   ]
  },
  {
   "cell_type": "code",
   "execution_count": null,
   "metadata": {},
   "outputs": [],
   "source": [
    "data = scipy.io.loadmat(\"separable.mat\")\n",
    "X = np.atleast_2d(unwrap(data[\"X\"]))\n",
    "y = np.atleast_2d(unwrap(data[\"y\"])) - 1\n",
    "\n",
    "# # Testing/Debugging data\n",
    "# X = np.array([[1, 1], [3, 3], [4, 4], [2, 2], [5, 5]], dtype=np.float32).T\n",
    "# y = np.array([[0, 0, 0, 1, 1]])\n",
    "\n",
    "# # Testing/Debugging data\n",
    "# X = np.array([[1, 0], [0, 1], [2, 1]], dtype=np.float32).T\n",
    "# y = np.array([[0, 0, 1]])"
   ]
  },
  {
   "cell_type": "markdown",
   "metadata": {},
   "source": [
    "#### Run the perceptron algorithm with at most 100 iterations"
   ]
  },
  {
   "cell_type": "code",
   "execution_count": null,
   "metadata": {},
   "outputs": [],
   "source": [
    "w, b = perceptron(X, y, 100)\n",
    "\n",
    "if np.all(np.isnan(w)):\n",
    "    print('The algorithm did not converge in given iteration limit.')"
   ]
  },
  {
   "cell_type": "markdown",
   "metadata": {},
   "source": [
    "#### Visualise"
   ]
  },
  {
   "cell_type": "code",
   "execution_count": null,
   "metadata": {},
   "outputs": [],
   "source": [
    "# Show the data and the resulting linear classifier\n",
    "plt.figure()\n",
    "yf=y.flatten()\n",
    "plt.plot(X[0,yf==0],X[1,yf==0],'bx',ms=10)\n",
    "plt.plot(X[0,yf==1],X[1,yf==1],'r+',ms=10)\n",
    "x_bound =[ min(X[0]),max(X[0])]\n",
    "xs = np.linspace(x_bound[0], x_bound[1])\n",
    "ys = -(xs*w[0] +b)/w[1]\n",
    "plt.plot(xs,ys,'b-')\n",
    "plt.title('Perceptron algorithm')\n",
    "plt.savefig('perceptron_linear.png')"
   ]
  },
  {
   "cell_type": "markdown",
   "metadata": {},
   "source": [
    "## Task 2 - unseparable"
   ]
  },
  {
   "cell_type": "code",
   "execution_count": null,
   "metadata": {},
   "outputs": [],
   "source": [
    "data = scipy.io.loadmat(\"unseparable.mat\")\n",
    "X = np.atleast_2d(unwrap(data[\"X\"]))\n",
    "y = np.atleast_2d(unwrap(data[\"y\"])) - 1"
   ]
  },
  {
   "cell_type": "code",
   "execution_count": null,
   "metadata": {},
   "outputs": [],
   "source": [
    "Z = lift_dimension(X)\n",
    "\n",
    "# Run the perceptron algorithm with at most 100 iterations\n",
    "w, b = perceptron(Z, y, 100)\n",
    "\n",
    "if np.all(np.isnan(w)):\n",
    "    print('The algorithm did not converge in given iteration limit.')"
   ]
  },
  {
   "cell_type": "markdown",
   "metadata": {},
   "source": [
    "#### Visualise"
   ]
  },
  {
   "cell_type": "code",
   "execution_count": null,
   "metadata": {},
   "outputs": [],
   "source": [
    "# Show the data and the resulting classifier\n",
    "model = {'w': w, 'b': b}\n",
    "pboundary(X, y, model)\n",
    "\n",
    "plt.title('Perceptron algorithm in a lifted space')\n",
    "plt.savefig('perceptron_quadratic.png')"
   ]
  }
 ],
 "metadata": {
  "kernelspec": {
   "display_name": "Python 2",
   "language": "python",
   "name": "python2"
  },
  "language_info": {
   "codemirror_mode": {
    "name": "ipython",
    "version": 2
   },
   "file_extension": ".py",
   "mimetype": "text/x-python",
   "name": "python",
   "nbconvert_exporter": "python",
   "pygments_lexer": "ipython2",
   "version": "2.7.12"
  }
 },
 "nbformat": 4,
 "nbformat_minor": 2
}
