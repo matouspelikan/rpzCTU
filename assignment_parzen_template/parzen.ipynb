{
 "cells": [
  {
   "cell_type": "markdown",
   "metadata": {},
   "source": [
    "# Task 05 - Non-parametric probability density estimation - Parzen window\n",
    "## Pattern Recognition and Machine Learning"
   ]
  },
  {
   "cell_type": "markdown",
   "metadata": {},
   "source": [
    "Copy and import needed files/methods from previous assignment to this directory. \n",
    "Adding path to the previous assignment is not sufficient. Upload system\n",
    "requires your code to be self contained."
   ]
  },
  {
   "cell_type": "code",
   "execution_count": null,
   "metadata": {},
   "outputs": [],
   "source": [
    "# uncomment following for interactive matplotlib\n",
    "# %matplotlib notebook\n",
    "\n",
    "from parzen import *\n",
    "import scipy.io\n",
    "import numpy as np\n",
    "import matplotlib.pyplot as plt\n",
    "import matplotlib.patches as patches\n",
    "import copy\n",
    "from PIL import Image\n",
    "\n",
    "from bayes import *"
   ]
  },
  {
   "cell_type": "markdown",
   "metadata": {},
   "source": [
    "## init"
   ]
  },
  {
   "cell_type": "code",
   "execution_count": null,
   "metadata": {},
   "outputs": [],
   "source": [
    "def unwrap(data):\n",
    "    \"\"\"\n",
    "    Simple \"hack\" for preparing data from *.mat files\n",
    "    \"\"\"\n",
    "    try:\n",
    "        while (len(data) == 1) and (len(data.shape) > 0):\n",
    "            data = data[0]\n",
    "        for key in list(data.dtype.names):\n",
    "            data[key] = unwrap(data[key])\n",
    "    except:\n",
    "        pass\n",
    "    return data\n",
    "\n",
    "def ndarray2dict(data, indexes=None):\n",
    "    outputs = {}\n",
    "    for key in list(data.dtype.names):\n",
    "        value = unwrap(data[key])\n",
    "        try:\n",
    "            if len(value.shape) > 0:\n",
    "                value = np.atleast_2d(value)\n",
    "        except:\n",
    "            pass\n",
    "        outputs[key] = value\n",
    "    if indexes is not None:\n",
    "        for key in indexes:\n",
    "            outputs[key] -= 1\n",
    "    return outputs\n",
    "    \n",
    "data = scipy.io.loadmat(\"data_33rpz_parzen.mat\")\n",
    "tst = ndarray2dict(unwrap(data[\"tst\"]), ['labels'])\n",
    "trn = ndarray2dict(unwrap(data[\"trn\"]), ['labels'])"
   ]
  },
  {
   "cell_type": "markdown",
   "metadata": {},
   "source": [
    "## Tasks, part 1\n",
    "#### measurements"
   ]
  },
  {
   "cell_type": "code",
   "execution_count": null,
   "metadata": {},
   "outputs": [],
   "source": [
    "x = compute_measurement_lr_cont(trn['images'])\n",
    "\n",
    "# splitting the trainning data into classes\n",
    "idxs = np.squeeze(trn['labels'])\n",
    "\n",
    "raise NotImplementedError(\"You have to implement the rest.\")\n",
    "xA = ...\n",
    "xC = ..."
   ]
  },
  {
   "cell_type": "markdown",
   "metadata": {},
   "source": [
    "#### computing the histograms of training data"
   ]
  },
  {
   "cell_type": "code",
   "execution_count": null,
   "metadata": {},
   "outputs": [],
   "source": [
    "bins_A, centers_A = np.histogram(xA, 20)\n",
    "bins_A = bins_A / (np.sum(bins_A)*(centers_A[1]-centers_A[0]))\n",
    "\n",
    "bins_C, centers_C = np.histogram(xC, 20)\n",
    "bins_C = bins_C / (np.sum(bins_C)*(centers_C[1]-centers_C[0]))"
   ]
  },
  {
   "cell_type": "markdown",
   "metadata": {},
   "source": [
    "#### estimating conditional probability using Parzen window"
   ]
  },
  {
   "cell_type": "code",
   "execution_count": null,
   "metadata": {},
   "outputs": [],
   "source": [
    "x_range = np.atleast_2d(np.arange(np.min(xA),np.max(xA),100))\n",
    "h = np.array([[100, 500, 1000, 2000]])\n",
    "\n",
    "raise NotImplementedError(\"You have to implement the rest.\")\n",
    "p = ..."
   ]
  },
  {
   "cell_type": "markdown",
   "metadata": {},
   "source": [
    "#### visualisation"
   ]
  },
  {
   "cell_type": "code",
   "execution_count": null,
   "metadata": {},
   "outputs": [],
   "source": [
    "# plots of the estimates\n",
    "plt.figure(figsize=(15,10))\n",
    "\n",
    "for idx in range(4):\n",
    "    cur_h = h[0,idx]\n",
    "    plt.subplot(2,2,idx+1)\n",
    "    width = centers_A[1]-centers_A[0]\n",
    "    plt.bar(centers_A[:-1] + width/2, bins_A, width=width*0.8)\n",
    "    plt.plot(x_range.T, ..., 'r', linewidth=2)\n",
    "    plt.title('h = {}'.format(cur_h))\n",
    "    plt.xlabel('x')\n",
    "    plt.ylabel('p(x|A)')\n",
    "    plt.ylim([0, 4.5e-4])\n",
    "    plt.grid('on')\n",
    "plt.savefig('parzen_estimates.png')"
   ]
  },
  {
   "cell_type": "markdown",
   "metadata": {},
   "source": [
    "## Tasks, part 2\n",
    "#### 10-fold cross-validation init"
   ]
  },
  {
   "cell_type": "code",
   "execution_count": null,
   "metadata": {
    "pixiedust": {
     "displayParams": {}
    }
   },
   "outputs": [],
   "source": [
    "# h_range = np.arange(100,1000+1e-8,50)\n",
    "h_range = np.linspace(100,1000,19)\n",
    "num_folds = 10;"
   ]
  },
  {
   "cell_type": "markdown",
   "metadata": {},
   "source": [
    "#### class A cross-validation"
   ]
  },
  {
   "cell_type": "code",
   "execution_count": null,
   "metadata": {},
   "outputs": [],
   "source": [
    "np.random.seed(42)   # needed only for upload system, to test the correctness of the code\n",
    "\n",
    "num_data = xA.size\n",
    "itrn, itst = crossval(num_data, num_folds)\n",
    "\n",
    "raise NotImplementedError(\"You have to implement the rest.\")\n",
    "Lh = ..."
   ]
  },
  {
   "cell_type": "markdown",
   "metadata": {},
   "source": [
    "#### optimal value of parameter h"
   ]
  },
  {
   "cell_type": "code",
   "execution_count": null,
   "metadata": {},
   "outputs": [],
   "source": [
    "raise NotImplementedError(\"You have to implement the rest.\")\n",
    "h_bestA = ...\n",
    "Lh_bestA = ..."
   ]
  },
  {
   "cell_type": "markdown",
   "metadata": {},
   "source": [
    "#### plots of optimal h"
   ]
  },
  {
   "cell_type": "code",
   "execution_count": null,
   "metadata": {},
   "outputs": [],
   "source": [
    "plt.figure(figsize=(15,8))\n",
    "plt.subplot(1,2,1)\n",
    "plt.plot(h_range.T, Lh.T)\n",
    "plt.plot(h_bestA, Lh_bestA, 'or')\n",
    "bottom, _ = plt.ylim()\n",
    "plt.plot([h_bestA, h_bestA], [bottom, Lh_bestA], '--r')\n",
    "plt.title('10-fold cross-validation')\n",
    "plt.xlabel('h')\n",
    "plt.ylabel('L(h)')\n",
    "plt.grid('on')\n",
    "\n",
    "raise NotImplementedError(\"You have to implement the rest.\")\n",
    "p = ...\n",
    "\n",
    "plt.subplot(1,2,2)\n",
    "width = centers_A[1]-centers_A[0]\n",
    "plt.bar(centers_A[:-1] + width/2, bins_A, width=width*0.9)\n",
    "plt.plot(x_range.T, p.T, 'r', linewidth=2)\n",
    "plt.grid('on')\n",
    "plt.title('Best bandwidth h for class A')\n",
    "plt.xlabel('x')\n",
    "plt.ylabel('p(x|A)')\n",
    "plt.savefig('optimal_h_classA.png')"
   ]
  },
  {
   "cell_type": "markdown",
   "metadata": {},
   "source": [
    "#### class C cross-validation"
   ]
  },
  {
   "cell_type": "code",
   "execution_count": null,
   "metadata": {},
   "outputs": [],
   "source": [
    "x_range = np.arange(np.min(xC),np.max(xC),100)\n",
    "\n",
    "np.random.seed(42)   # needed only for upload system, to test the correctness of the code\n",
    "\n",
    "num_data = xC.size\n",
    "itrn, itst = crossval(num_data, num_folds)\n",
    "\n",
    "Lh = np.zeros([1, h_range.size])\n",
    "for h_iter in range(h_range.size):\n",
    "    Lh[0,h_iter] = compute_Lh(itrn, itst, xC, h_range[h_iter])"
   ]
  },
  {
   "cell_type": "markdown",
   "metadata": {},
   "source": [
    "#### optimal value of parameter h"
   ]
  },
  {
   "cell_type": "code",
   "execution_count": null,
   "metadata": {},
   "outputs": [],
   "source": [
    "h_bestC = opt.fminbound(lambda h: -compute_Lh(itrn, itst, xC, h), h_range[0], h_range[-1])\n",
    "Lh_bestC = compute_Lh(itrn, itst, xC, h_bestC)"
   ]
  },
  {
   "cell_type": "markdown",
   "metadata": {},
   "source": [
    "#### plots of optimal h"
   ]
  },
  {
   "cell_type": "code",
   "execution_count": null,
   "metadata": {},
   "outputs": [],
   "source": [
    "plt.figure(figsize=(15,8))\n",
    "plt.subplot(1,2,1)\n",
    "plt.plot(h_range.T, Lh.T)\n",
    "plt.plot(h_bestC, Lh_bestC, 'or')\n",
    "bottom, _ = plt.ylim()\n",
    "plt.plot([h_bestC, h_bestC], [bottom, Lh_bestC], '--r')\n",
    "plt.title('10-fold cross-validation')\n",
    "plt.xlabel('h')\n",
    "plt.ylabel('L(h)')\n",
    "plt.grid('on')\n",
    "\n",
    "raise NotImplementedError(\"You have to implement the rest.\")\n",
    "p = ...\n",
    "\n",
    "plt.subplot(1,2,2)\n",
    "width = centers_C[1]-centers_C[0]\n",
    "plt.bar(centers_C[:-1] + width/2, bins_C, width=width*0.9)\n",
    "plt.plot(x_range.T, p.T, 'r', linewidth=2)\n",
    "plt.grid('on')\n",
    "plt.title('Best bandwidth h for class C')\n",
    "plt.xlabel('x')\n",
    "plt.ylabel('p(x|C)')\n",
    "plt.savefig('optimal_h_classC.png')"
   ]
  },
  {
   "cell_type": "markdown",
   "metadata": {},
   "source": [
    "## Bayesian classifier"
   ]
  },
  {
   "cell_type": "code",
   "execution_count": null,
   "metadata": {},
   "outputs": [],
   "source": [
    "x_test = compute_measurement_lr_cont(tst['images'])\n",
    "\n",
    "# computing a priori probabilities\n",
    "\n",
    "raise NotImplementedError(\"You have to implement the rest.\")\n",
    "pA = ...\n",
    "pC = ...\n",
    "\n",
    "labels = classify_bayes_parzen( ... )"
   ]
  },
  {
   "cell_type": "markdown",
   "metadata": {},
   "source": [
    "#### visualisation"
   ]
  },
  {
   "cell_type": "code",
   "execution_count": null,
   "metadata": {},
   "outputs": [],
   "source": [
    "show_classification(tst['images'], labels, 'AC')\n",
    "\n",
    "# classification error\n",
    "raise NotImplementedError(\"You have to implement the rest.\")\n",
    "bayes_error = ...\n",
    "print(bayes_error)"
   ]
  }
 ],
 "metadata": {
  "kernelspec": {
   "display_name": "Python 2",
   "language": "python",
   "name": "python2"
  },
  "language_info": {
   "codemirror_mode": {
    "name": "ipython",
    "version": 2
   },
   "file_extension": ".py",
   "mimetype": "text/x-python",
   "name": "python",
   "nbconvert_exporter": "python",
   "pygments_lexer": "ipython2",
   "version": "2.7.12"
  }
 },
 "nbformat": 4,
 "nbformat_minor": 2
}
