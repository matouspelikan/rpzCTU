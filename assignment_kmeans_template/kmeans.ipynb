{
 "cells": [
  {
   "cell_type": "markdown",
   "metadata": {},
   "source": [
    "# Task 12 - KMeans\n",
    "## Pattern Recognition and Machine Learning"
   ]
  },
  {
   "cell_type": "markdown",
   "metadata": {},
   "source": [
    "Copy and import needed files/methods from previous assignment to this directory. \n",
    "Adding path to the previous assignment is not sufficient. Upload system\n",
    "requires your code to be self contained."
   ]
  },
  {
   "cell_type": "code",
   "execution_count": null,
   "metadata": {},
   "outputs": [],
   "source": [
    "# uncomment following for interactive matplotlib\n",
    "# %matplotlib notebook\n",
    "%load_ext autoreload\n",
    "%autoreload 2\n",
    "\n",
    "from kmeans import *\n",
    "import scipy.io\n",
    "import numpy as np\n",
    "import matplotlib.pyplot as plt\n",
    "import imageio"
   ]
  },
  {
   "cell_type": "markdown",
   "metadata": {},
   "source": [
    "## init"
   ]
  },
  {
   "cell_type": "code",
   "execution_count": null,
   "metadata": {},
   "outputs": [],
   "source": [
    "def unwrap(data):\n",
    "    \"\"\"\n",
    "    Simple \"hack\" for preparing data from *.mat files\n",
    "    \"\"\"\n",
    "    try:\n",
    "        while (len(data) == 1) and (len(data.shape) > 0):\n",
    "            data = data[0]\n",
    "        for key in list(data.dtype.names):\n",
    "            data[key] = unwrap(data[key])\n",
    "    except:\n",
    "        pass\n",
    "    return data\n",
    "\n",
    "def ndarray2dict(data, indexes=None):\n",
    "    outputs = {}\n",
    "    for key in list(data.dtype.names):\n",
    "        value = unwrap(data[key])\n",
    "        try:\n",
    "            if len(value.shape) > 0:\n",
    "                value = np.atleast_2d(value)\n",
    "        except:\n",
    "            pass\n",
    "        outputs[key] = value\n",
    "    if indexes is not None:\n",
    "        for key in indexes:\n",
    "            outputs[key] -= 1\n",
    "    return outputs"
   ]
  },
  {
   "cell_type": "markdown",
   "metadata": {},
   "source": [
    "#### Load data"
   ]
  },
  {
   "cell_type": "code",
   "execution_count": null,
   "metadata": {},
   "outputs": [],
   "source": [
    "data = scipy.io.loadmat(\"image_data.mat\") # Images of letters\n",
    "images = np.atleast_2d(unwrap(data[\"images\"]))\n",
    "data = scipy.io.loadmat(\"mnist_image_data.mat\") # Images of numbers from the MNIST dataset\n",
    "mnist_images = np.atleast_2d(unwrap(data[\"mnist_images\"]))\n",
    "im = imageio.imread('geeks.png')"
   ]
  },
  {
   "cell_type": "markdown",
   "metadata": {},
   "source": [
    "#### Init random generator"
   ]
  },
  {
   "cell_type": "code",
   "execution_count": null,
   "metadata": {},
   "outputs": [],
   "source": [
    "np.random.seed(0)\n",
    "random.seed(0) # separate module seed"
   ]
  },
  {
   "cell_type": "markdown",
   "metadata": {},
   "source": [
    "#### K-means (HLT letters)"
   ]
  },
  {
   "cell_type": "code",
   "execution_count": null,
   "metadata": {},
   "outputs": [],
   "source": [
    "print('K-means, K=3...')\n",
    "x = compute_measurements(images.astype(np.float64))\n",
    "k = 3\n",
    "\n",
    "c, means, sq_dist = k_means(x, k, 100, show=False)\n",
    "show_clusters(x, c, means);\n",
    "show_clustered_images(images, c)\n",
    "show_mean_images(images, c);"
   ]
  },
  {
   "cell_type": "markdown",
   "metadata": {},
   "source": [
    "## K-means (numbers)"
   ]
  },
  {
   "cell_type": "code",
   "execution_count": null,
   "metadata": {},
   "outputs": [],
   "source": [
    "print('K-means, K=10...')\n",
    "x = compute_measurements(mnist_images)\n",
    "k = 10\n",
    "c, means, _ = k_means(x, k, np.inf)\n",
    "show_clusters(x, c, means)\n",
    "show_clustered_images(mnist_images, c)\n",
    "show_mean_images(mnist_images, c)"
   ]
  },
  {
   "cell_type": "markdown",
   "metadata": {},
   "source": [
    "## Avoid local minima"
   ]
  },
  {
   "cell_type": "code",
   "execution_count": null,
   "metadata": {},
   "outputs": [],
   "source": [
    "print('K-means with multiple trials...')\n",
    "x = compute_measurements(images)\n",
    "k = 3\n",
    "c_m, means_m, x_dists_m = k_means_multiple_trials(x, k, 10, np.inf, False)\n",
    "show_clusters(x, c_m, means_m)\n",
    "show_clustered_images(images, c_m)"
   ]
  },
  {
   "cell_type": "markdown",
   "metadata": {},
   "source": [
    "## Random initialization (try this block multiple times)\n"
   ]
  },
  {
   "cell_type": "code",
   "execution_count": null,
   "metadata": {},
   "outputs": [],
   "source": [
    "print('K-means, K=4...')\n",
    "x = gen_kmeanspp_data()\n",
    "k = 4\n",
    "means = x[:, random.sample(range(x.shape[1]), k)]\n",
    "show_clusters(x, np.ones([1, x.shape[1]]), means)\n",
    "plt.title('K-means initialization (random)')\n",
    "plt.savefig('random_initialization.png')\n",
    "c, means, _ = k_means(x, k, np.inf, False, means)\n",
    "show_clusters(x, c, means)\n",
    "plt.title('K-means results (random initialization)')"
   ]
  },
  {
   "cell_type": "markdown",
   "metadata": {},
   "source": [
    "## K-means++ initialization  (try this block multiple times)"
   ]
  },
  {
   "cell_type": "code",
   "execution_count": null,
   "metadata": {},
   "outputs": [],
   "source": [
    "print('K-means++, K=4...')\n",
    "x = gen_kmeanspp_data()\n",
    "k = 4\n",
    "means = k_meanspp(x, k)\n",
    "show_clusters(x, np.ones([1, x.shape[1]]), means)\n",
    "plt.title('K-means initialization (K-Means++)')    \n",
    "plt.savefig('kmeanspp_initialization.png')\n",
    "c, means, _ = k_means(x, k, np.inf, False, means)\n",
    "show_clusters(x, c, means)\n",
    "plt.title('K-means results (K-means++ initialization)')"
   ]
  },
  {
   "cell_type": "markdown",
   "metadata": {},
   "source": [
    "## K-means Application - Color Quantization"
   ]
  },
  {
   "cell_type": "code",
   "execution_count": null,
   "metadata": {},
   "outputs": [],
   "source": [
    "im_q = quantize_colors(im, 8)\n",
    "plt.imshow(im_q)\n",
    "plt.savefig('geeks_quantized.png')"
   ]
  }
 ],
 "metadata": {
  "kernelspec": {
   "display_name": "Python 2",
   "language": "python",
   "name": "python2"
  },
  "language_info": {
   "codemirror_mode": {
    "name": "ipython",
    "version": 2
   },
   "file_extension": ".py",
   "mimetype": "text/x-python",
   "name": "python",
   "nbconvert_exporter": "python",
   "pygments_lexer": "ipython2",
   "version": "2.7.12"
  }
 },
 "nbformat": 4,
 "nbformat_minor": 2
}
