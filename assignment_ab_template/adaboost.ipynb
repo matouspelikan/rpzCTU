{
 "cells": [
  {
   "cell_type": "markdown",
   "metadata": {},
   "source": [
    "# Initialization"
   ]
  },
  {
   "cell_type": "code",
   "execution_count": null,
   "metadata": {},
   "outputs": [],
   "source": [
    "from adaboost import *\n",
    "import scipy.io\n",
    "import numpy as np\n",
    "import matplotlib.pyplot as plt\n",
    "\n",
    "def unwrap(data):\n",
    "    \"\"\"\n",
    "    Simple \"hack\" for preparing data from *.mat files\n",
    "    \"\"\"\n",
    "    try:\n",
    "        while (len(data) == 1) and (len(data.shape) > 0):\n",
    "            data = data[0]\n",
    "        for key in list(data.dtype.names):\n",
    "            data[key] = unwrap(data[key])\n",
    "    except:\n",
    "        pass\n",
    "    return data"
   ]
  },
  {
   "cell_type": "markdown",
   "metadata": {},
   "source": [
    "# Data preparation"
   ]
  },
  {
   "cell_type": "code",
   "execution_count": null,
   "metadata": {},
   "outputs": [],
   "source": [
    "data = scipy.io.loadmat('data_33rpz_cv07.mat')\n",
    "\n",
    "trn_data = unwrap(data['trn_data'])\n",
    "trn_images = trn_data[0]\n",
    "trn_labels = np.squeeze(trn_data[1])\n",
    "\n",
    "tst_data = unwrap(data['tst_data'])\n",
    "tst_images = tst_data[0]\n",
    "tst_labels = np.squeeze(tst_data[1])\n",
    "\n",
    "print('training data shapes:')\n",
    "print(trn_images.shape)\n",
    "print(trn_labels.shape)\n",
    "\n",
    "print('test data shapes:')\n",
    "print(tst_images.shape)\n",
    "print(tst_labels.shape)"
   ]
  },
  {
   "cell_type": "code",
   "execution_count": null,
   "metadata": {},
   "outputs": [],
   "source": [
    "digit = 6\n",
    "N_trn = trn_labels.size\n",
    "X_trn = np.reshape(trn_images, (-1, N_trn))\n",
    "y_trn = -np.ones(N_trn)\n",
    "y_trn[trn_labels == digit] = 1\n",
    "\n",
    "N_tst = tst_labels.size\n",
    "X_tst = np.reshape(tst_images, (-1, N_tst))\n",
    "y_tst = -np.ones(N_tst)\n",
    "y_tst[tst_labels == digit] = 1"
   ]
  },
  {
   "cell_type": "markdown",
   "metadata": {},
   "source": [
    "# AdaBoost training"
   ]
  },
  {
   "cell_type": "code",
   "execution_count": null,
   "metadata": {},
   "outputs": [],
   "source": [
    "N_steps = 30\n",
    "classifier, wc_error, upper_bound = adaboost(X_trn, y_trn, N_steps)"
   ]
  },
  {
   "cell_type": "markdown",
   "metadata": {},
   "source": [
    "## Compute errors and visualize"
   ]
  },
  {
   "cell_type": "code",
   "execution_count": null,
   "metadata": {},
   "outputs": [],
   "source": [
    "trn_errors = compute_error(classifier, X_trn, y_trn)\n",
    "tst_errors = compute_error(classifier, X_tst, y_tst)\n",
    "min_iter = np.argmin(tst_errors)\n",
    "min_err = tst_errors[min_iter]\n",
    "print('minimal test error {}, achieved at iteration #{}'.format(min_err, min_iter))"
   ]
  },
  {
   "cell_type": "code",
   "execution_count": null,
   "metadata": {},
   "outputs": [],
   "source": [
    "plt.plot(upper_bound, label='Upper bound')\n",
    "plt.plot(wc_error, label='WC error')\n",
    "plt.plot(trn_errors, label='Training error')\n",
    "plt.plot(tst_errors, label='Test error')\n",
    "plt.xlabel('training step')\n",
    "plt.ylabel('error')\n",
    "plt.grid()\n",
    "plt.legend()\n",
    "plt.savefig('error_evolution.png')"
   ]
  },
  {
   "cell_type": "markdown",
   "metadata": {},
   "source": [
    "## Classify images and visualize"
   ]
  },
  {
   "cell_type": "code",
   "execution_count": null,
   "metadata": {},
   "outputs": [],
   "source": [
    "classif = adaboost_classify(classifier, X_tst)\n",
    "show_classification(tst_images, classif)\n",
    "plt.savefig('classification.png')"
   ]
  },
  {
   "cell_type": "code",
   "execution_count": null,
   "metadata": {},
   "outputs": [],
   "source": [
    "show_classifiers(trn_images[..., y_trn==1], classifier)\n",
    "plt.savefig('weak_classifiers.png')"
   ]
  }
 ],
 "metadata": {
  "kernelspec": {
   "display_name": "Python 2",
   "language": "python",
   "name": "python2"
  },
  "language_info": {
   "codemirror_mode": {
    "name": "ipython",
    "version": 2
   },
   "file_extension": ".py",
   "mimetype": "text/x-python",
   "name": "python",
   "nbconvert_exporter": "python",
   "pygments_lexer": "ipython2",
   "version": "2.7.12"
  }
 },
 "nbformat": 4,
 "nbformat_minor": 2
}
