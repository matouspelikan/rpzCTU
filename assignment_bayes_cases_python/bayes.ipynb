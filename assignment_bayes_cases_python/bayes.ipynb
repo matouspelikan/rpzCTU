{
 "cells": [
  {
   "cell_type": "markdown",
   "metadata": {},
   "source": [
    "# Task 02 - BAYES\n",
    "## Pattern Recognition and Machine Learning"
   ]
  },
  {
   "cell_type": "code",
   "execution_count": null,
   "metadata": {},
   "outputs": [],
   "source": [
    "# uncomment following for interactive matplotlib\n",
    "# %matplotlib notebook\n",
    "from bayes import *\n",
    "import scipy.io\n",
    "import numpy as np\n",
    "import matplotlib.pyplot as plt\n",
    "import matplotlib.patches as patches\n",
    "from PIL import Image\n"
   ]
  },
  {
   "cell_type": "markdown",
   "metadata": {},
   "source": [
    "#### Load data from *.mat files"
   ]
  },
  {
   "cell_type": "code",
   "execution_count": null,
   "metadata": {},
   "outputs": [],
   "source": [
    "def unwrap(data):\n",
    "    \"\"\"\n",
    "    Simple \"hack\" for preparing data from *.mat files\n",
    "    \"\"\"\n",
    "    try:\n",
    "        while (len(data) == 1) and (data.shape > 0):\n",
    "            data = data[0]\n",
    "    except:\n",
    "        pass\n",
    "    return data\n",
    "\n",
    "def prepare_continual_inputs(data):\n",
    "    for key in ['Prior', 'Cov', 'Sigma', 'Mean']:\n",
    "        data[key] = np.squeeze(data[key])\n",
    "    return data\n",
    "    \n",
    "data = scipy.io.loadmat(\"data_33rpz_cv02.mat\")\n",
    "Alphabet = np.array(list(unwrap(data[\"Alphabet\"])))\n",
    "images_test = unwrap(data[\"images_test\"])\n",
    "labels_test = unwrap(data[\"labels_test\"]) - 1 # convert to 0-indexed\n",
    "contA = prepare_continual_inputs(unwrap(data[\"contA\"]))\n",
    "contC = prepare_continual_inputs(unwrap(data[\"contC\"]))\n",
    "discreteA = unwrap(data[\"discreteA\"])\n",
    "discreteC = unwrap(data[\"discreteC\"])"
   ]
  },
  {
   "cell_type": "markdown",
   "metadata": {},
   "source": [
    "## Discrete"
   ]
  },
  {
   "cell_type": "code",
   "execution_count": null,
   "metadata": {},
   "outputs": [],
   "source": [
    "W1 = np.array([[0, 1],\n",
    "              [1, 0]])\n",
    "W2 = np.array([[0, 5], \n",
    "               [1, 0]])"
   ]
  },
  {
   "cell_type": "code",
   "execution_count": null,
   "metadata": {},
   "outputs": [],
   "source": [
    "q_discrete1 = find_strategy_discrete(discreteA, discreteC, W1)\n",
    "\n",
    "visualize_discrete(discreteA, discreteC, q_discrete1)\n",
    "plt.savefig(\"classif_W1.png\") "
   ]
  },
  {
   "cell_type": "code",
   "execution_count": null,
   "metadata": {},
   "outputs": [],
   "source": [
    "q_discrete2 = find_strategy_discrete(discreteA, discreteC, W2)\n",
    "\n",
    "visualize_discrete(discreteA, discreteC, q_discrete2)\n",
    "plt.savefig(\"classif_W2.png\")"
   ]
  },
  {
   "cell_type": "code",
   "execution_count": null,
   "metadata": {},
   "outputs": [],
   "source": [
    "R_discrete = bayes_risk_discrete(discreteA, discreteC, W1, q_discrete1)\n",
    "\n",
    "# result not used, inspect the values e.g. with hist function\n",
    "measurements_discrete = compute_measurement_lr_discrete(images_test)\n",
    "\n",
    "# result not used, inspect the values \n",
    "labels_estimated_discrete = classify_discrete(images_test, q_discrete1)\n",
    "\n",
    "error_discrete = classification_error_discrete(images_test, labels_test, q_discrete1)"
   ]
  },
  {
   "cell_type": "markdown",
   "metadata": {},
   "source": [
    "#### Visualisation"
   ]
  },
  {
   "cell_type": "code",
   "execution_count": null,
   "metadata": {},
   "outputs": [],
   "source": [
    "I_A = images_test[:,:,labels_estimated_discrete[0] == 0]\n",
    "I_C = images_test[:,:,labels_estimated_discrete[0] == 1]\n",
    "# implement"
   ]
  },
  {
   "cell_type": "markdown",
   "metadata": {},
   "source": [
    "## Continuos"
   ]
  },
  {
   "cell_type": "code",
   "execution_count": null,
   "metadata": {},
   "outputs": [],
   "source": [
    "# we are searching for bayesian strategy for 2 normal distributions and\n",
    "# zero-one cost function\n",
    "W = np.array([[0, 1],\n",
    "              [1, 0]])\n",
    "\n",
    "# result not used, inspect the values e.g. with hist function\n",
    "measurements_cont = compute_measurement_lr_cont(images_test)\n",
    "\n",
    "q_cont = find_strategy_2normal(contA, contC)\n",
    "# visualize_2norm(contA, contC, q_cont)\n",
    "\n",
    "R_cont = bayes_risk_2normal(contA, contC, q_cont)\n",
    "\n",
    "# result not used, inspect the values \n",
    "labels_estimated_cont = classify_2normal(images_test, q_cont)\n",
    "\n",
    "error_cont = classification_error_2normal(images_test, labels_test, q_cont)\n"
   ]
  },
  {
   "cell_type": "markdown",
   "metadata": {},
   "source": [
    "#### Visualisation"
   ]
  },
  {
   "cell_type": "code",
   "execution_count": null,
   "metadata": {},
   "outputs": [],
   "source": [
    "# implement"
   ]
  },
  {
   "cell_type": "code",
   "execution_count": null,
   "metadata": {},
   "outputs": [],
   "source": []
  },
  {
   "cell_type": "code",
   "execution_count": null,
   "metadata": {},
   "outputs": [],
   "source": []
  }
 ],
 "metadata": {
  "kernelspec": {
   "display_name": "Python 2",
   "language": "python",
   "name": "python2"
  },
  "language_info": {
   "codemirror_mode": {
    "name": "ipython",
    "version": 2
   },
   "file_extension": ".py",
   "mimetype": "text/x-python",
   "name": "python",
   "nbconvert_exporter": "python",
   "pygments_lexer": "ipython2",
   "version": "2.7.12"
  }
 },
 "nbformat": 4,
 "nbformat_minor": 2
}
