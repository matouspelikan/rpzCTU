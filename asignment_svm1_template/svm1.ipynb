{
 "cells": [
  {
   "cell_type": "markdown",
   "metadata": {},
   "source": [
    "# Task 08 - Support Vector Machines (SVM)\n",
    "## Pattern Recognition and Machine Learning"
   ]
  },
  {
   "cell_type": "markdown",
   "metadata": {},
   "source": [
    "Copy and import needed files/methods from previous assignment to this directory. \n",
    "Adding path to the previous assignment is not sufficient. Upload system\n",
    "requires your code to be self contained."
   ]
  },
  {
   "cell_type": "code",
   "execution_count": null,
   "metadata": {},
   "outputs": [],
   "source": [
    "# uncomment following for interactive matplotlib\n",
    "# %matplotlib notebook\n",
    "\n",
    "from svm1 import *\n",
    "import scipy.io\n",
    "import numpy as np\n",
    "import matplotlib.pyplot as plt\n",
    "import matplotlib.patches as patches\n",
    "import copy\n",
    "from PIL import Image"
   ]
  },
  {
   "cell_type": "markdown",
   "metadata": {},
   "source": [
    "## init"
   ]
  },
  {
   "cell_type": "code",
   "execution_count": null,
   "metadata": {},
   "outputs": [],
   "source": [
    "def unwrap(data):\n",
    "    \"\"\"\n",
    "    Simple \"hack\" for preparing data from *.mat files\n",
    "    \"\"\"\n",
    "    try:\n",
    "        while (len(data) == 1) and (len(data.shape) > 0):\n",
    "            data = data[0]\n",
    "        for key in list(data.dtype.names):\n",
    "            data[key] = unwrap(data[key])\n",
    "    except:\n",
    "        pass\n",
    "    return data\n",
    "\n",
    "def ndarray2dict(data, indexes=None):\n",
    "    outputs = {}\n",
    "    for key in list(data.dtype.names):\n",
    "        value = unwrap(data[key])\n",
    "        try:\n",
    "            if len(value.shape) > 0:\n",
    "                value = np.atleast_2d(value)\n",
    "        except:\n",
    "            pass\n",
    "        outputs[key] = value\n",
    "    if indexes is not None:\n",
    "        for key in indexes:\n",
    "            outputs[key] -= 1\n",
    "    return outputs\n",
    "    \n",
    "data = scipy.io.loadmat(\"data_33rpz_svm_toy.mat\")\n",
    "X = np.atleast_2d(unwrap(data[\"X\"]))\n",
    "y = np.atleast_2d(unwrap(data[\"y\"])).astype(np.int32)\n",
    "y[y==2] = -1"
   ]
  },
  {
   "cell_type": "markdown",
   "metadata": {},
   "source": [
    "## Train SVM on simple data"
   ]
  },
  {
   "cell_type": "code",
   "execution_count": null,
   "metadata": {},
   "outputs": [],
   "source": [
    "X = np.array([[1, 2, 1, -1, -1, -2], [1, 1, 2, -1, -2, -1]])\n",
    "y = np.array([[1, 1, 1, -1, -1, -1]])\n",
    "C = 1;\n",
    "\n",
    "[w, b, sv_idx]  = my_svm(X, y, C)\n",
    "\n",
    "print(w)\n",
    "print(b)\n",
    "print(sv_idx)float('inf')"
   ]
  },
  {
   "cell_type": "markdown",
   "metadata": {},
   "source": [
    "## Toy data"
   ]
  },
  {
   "cell_type": "markdown",
   "metadata": {},
   "source": [
    "### Load the data"
   ]
  },
  {
   "cell_type": "code",
   "execution_count": null,
   "metadata": {},
   "outputs": [],
   "source": [
    "data = scipy.io.loadmat(\"data_33rpz_svm_toy.mat\")\n",
    "X = np.atleast_2d(unwrap(data[\"X\"]))\n",
    "y = np.atleast_2d(unwrap(data[\"y\"])).astype(np.int32)\n",
    "y[y==2] = -1"
   ]
  },
  {
   "cell_type": "markdown",
   "metadata": {},
   "source": [
    "### Train Soft-margin SVM"
   ]
  },
  {
   "cell_type": "code",
   "execution_count": null,
   "metadata": {},
   "outputs": [],
   "source": [
    "C = 1\n",
    "w, b, sv_idx = my_svm(X, y, C, options={'verb': False})"
   ]
  },
  {
   "cell_type": "markdown",
   "metadata": {},
   "source": [
    "### Visualize"
   ]
  },
  {
   "cell_type": "code",
   "execution_count": null,
   "metadata": {},
   "outputs": [],
   "source": [
    "plot_pts(X, y)\n",
    "plot_boundary(plt.gca(), w, b, X[:, sv_idx])\n",
    "plt.title('Soft-margin SVM, C = {}'.format(C))\n",
    "plt.savefig('linear_svm.png')"
   ]
  },
  {
   "cell_type": "markdown",
   "metadata": {},
   "source": [
    "## OCR data\n",
    "### Load the data"
   ]
  },
  {
   "cell_type": "code",
   "execution_count": null,
   "metadata": {},
   "outputs": [],
   "source": [
    "data = scipy.io.loadmat(\"data_33rpz_svm.mat\")\n",
    "\n",
    "def unpack_ocr_data(data):\n",
    "    tst = unwrap(data[\"tst\"])\n",
    "    tst_images = tst[0]\n",
    "    tst_labels = tst[1]\n",
    "\n",
    "    tst = {'images': tst[0],\n",
    "           'labels': tst[1]}\n",
    "\n",
    "    trn = unwrap(data[\"trn\"])\n",
    "    trn_images = trn[0]\n",
    "    trn_labels = trn[1]\n",
    "\n",
    "    trn = {'images': trn[0],\n",
    "           'labels': trn[1]}\n",
    "\n",
    "    return tst, trn\n",
    "\n",
    "tst, trn = unpack_ocr_data(data)\n",
    "print(tst['labels'].shape)\n",
    "\n",
    "X_trn, y_trn, norm_trn = compute_measurements_2d(trn)"
   ]
  },
  {
   "cell_type": "markdown",
   "metadata": {},
   "source": [
    "### Find optimal C\n",
    "This will probably take around 10 minutes"
   ]
  },
  {
   "cell_type": "code",
   "execution_count": null,
   "metadata": {},
   "outputs": [],
   "source": [
    "np.random.seed(42)\n",
    "trn_folds, tst_folds = crossval(y_trn.size, num_folds=10)\n",
    "\n",
    "best_C = None\n",
    "best_C_err = np.inf\n",
    "for C in [10, 1, 0.1, 0.01, 0.001]:\n",
    "    \n",
    "    C_err = compute_test_error(trn_folds, tst_folds, X_trn, y_trn, C)\n",
    "    \n",
    "    if C_err < best_C_err:\n",
    "        best_C_err = C_err\n",
    "        best_C = C\n",
    "    print('C {} -> err {}'.format(C, C_err))\n",
    "\n",
    "print('best C: {}'.format(best_C))\n"
   ]
  },
  {
   "cell_type": "markdown",
   "metadata": {},
   "source": [
    "### Train SVM with optimal C"
   ]
  },
  {
   "cell_type": "code",
   "execution_count": null,
   "metadata": {},
   "outputs": [],
   "source": [
    "w, b, sv_idx = my_svm(X_trn, np.atleast_2d(y_trn), best_C, options={'verb': False})"
   ]
  },
  {
   "cell_type": "markdown",
   "metadata": {},
   "source": [
    "### Classify test data"
   ]
  },
  {
   "cell_type": "code",
   "execution_count": null,
   "metadata": {},
   "outputs": [],
   "source": [
    "X_tst, y_tst, norm_tst = compute_measurements_2d(tst, norm_trn)\n",
    "classif = classif_lin_svm(X_tst, {'w': w, 'b': b})"
   ]
  },
  {
   "cell_type": "code",
   "execution_count": null,
   "metadata": {},
   "outputs": [],
   "source": [
    "error = 42 # count it yourself\n",
    "print(error)"
   ]
  },
  {
   "cell_type": "markdown",
   "metadata": {},
   "source": [
    "### And visualize"
   ]
  },
  {
   "cell_type": "code",
   "execution_count": null,
   "metadata": {},
   "outputs": [],
   "source": [
    "plt.figure()\n",
    "plot_pts(X_tst, y_tst)\n",
    "plot_boundary(plt.gca(), w, b, None)\n",
    "plt.title('Linear SVM')\n",
    "plt.savefig('ocr_svm_tst.png')"
   ]
  },
  {
   "cell_type": "code",
   "execution_count": null,
   "metadata": {},
   "outputs": [],
   "source": [
    "labels = classif.copy()\n",
    "labels[labels == 1] = 0\n",
    "labels[labels == -1] = 1\n",
    "\n",
    "labels = np.expand_dims(labels, axis=0)\n",
    "\n",
    "plt.figure()\n",
    "show_classification(tst['images'], labels, 'AC')\n",
    "plt.savefig('ocr_svm_classif.png')\n"
   ]
  }
 ],
 "metadata": {
  "kernelspec": {
   "display_name": "Python 2",
   "language": "python",
   "name": "python2"
  },
  "language_info": {
   "codemirror_mode": {
    "name": "ipython",
    "version": 2
   },
   "file_extension": ".py",
   "mimetype": "text/x-python",
   "name": "python",
   "nbconvert_exporter": "python",
   "pygments_lexer": "ipython2",
   "version": "2.7.12"
  }
 },
 "nbformat": 4,
 "nbformat_minor": 2
}
