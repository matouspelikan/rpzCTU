{
 "cells": [
  {
   "cell_type": "markdown",
   "metadata": {},
   "source": [
    "# Task 09 - Support Vector Machines (SVM) for Non-linear Classification\n",
    "## Pattern Recognition and Machine Learning"
   ]
  },
  {
   "cell_type": "code",
   "execution_count": null,
   "metadata": {},
   "outputs": [],
   "source": [
    "%load_ext autoreload\n",
    "%autoreload 2\n",
    "# uncomment following for interactive matplotlib\n",
    "# %matplotlib notebook\n",
    "\n",
    "from svm import *\n",
    "import numpy as np\n",
    "import matplotlib.pyplot as plt\n",
    "plt.rc('axes', axisbelow=True)"
   ]
  },
  {
   "cell_type": "markdown",
   "metadata": {},
   "source": [
    "# Part 1: Kernel SVM\n",
    "## Test on trivial data"
   ]
  },
  {
   "cell_type": "code",
   "execution_count": null,
   "metadata": {},
   "outputs": [],
   "source": [
    "X = np.array([[1, 2, 1, -1, -1, -2], [1, 1, 2, -1, -2, -1]])\n",
    "y = np.array([1, 1, 1, -1, -1, -1])"
   ]
  },
  {
   "cell_type": "markdown",
   "metadata": {},
   "source": [
    "### get_kernel function"
   ]
  },
  {
   "cell_type": "code",
   "execution_count": null,
   "metadata": {},
   "outputs": [],
   "source": [
    "K = get_kernel(X, X, {'kernel': 'linear'})\n",
    "print(K)"
   ]
  },
  {
   "cell_type": "code",
   "execution_count": null,
   "metadata": {},
   "outputs": [],
   "source": [
    "plt.imshow(K, cmap='viridis')\n",
    "plt.title('Linear kernel');"
   ]
  },
  {
   "cell_type": "code",
   "execution_count": null,
   "metadata": {},
   "outputs": [],
   "source": [
    "K = get_kernel(X, X, {'kernel': 'polynomial', 'd': 2})\n",
    "print(K)"
   ]
  },
  {
   "cell_type": "code",
   "execution_count": null,
   "metadata": {},
   "outputs": [],
   "source": [
    "plt.imshow(K, cmap='viridis')\n",
    "plt.title('Polynomial kernel');"
   ]
  },
  {
   "cell_type": "code",
   "execution_count": null,
   "metadata": {},
   "outputs": [],
   "source": [
    "K = get_kernel(X, X, {'kernel': 'rbf', 'sigma': 1.0})\n",
    "np.set_printoptions(precision=4, suppress=True)\n",
    "print(K)\n",
    "np.set_printoptions()"
   ]
  },
  {
   "cell_type": "code",
   "execution_count": null,
   "metadata": {},
   "outputs": [],
   "source": [
    "plt.imshow(K, cmap='viridis')\n",
    "plt.title('RBF kernel');"
   ]
  },
  {
   "cell_type": "markdown",
   "metadata": {},
   "source": [
    "### The SVM function"
   ]
  },
  {
   "cell_type": "code",
   "execution_count": null,
   "metadata": {},
   "outputs": [],
   "source": [
    "X = np.array([[1, 2, 1, -1, -1, -2], [1, 1, 2, -1, -2, -1]])\n",
    "y = np.array([-1, 1, 1, 1, -1, -1])\n",
    "C = float('inf');\n",
    "options = {'verb': True, \n",
    "           't_max': float('inf'),\n",
    "           'kernel': 'rbf',\n",
    "           'sigma': 0.02}"
   ]
  },
  {
   "cell_type": "code",
   "execution_count": null,
   "metadata": {},
   "outputs": [],
   "source": [
    "model = svm(X, y, C, options)\n",
    "print(model)"
   ]
  },
  {
   "cell_type": "code",
   "execution_count": null,
   "metadata": {},
   "outputs": [],
   "source": [
    "classif = classif_svm(X, model)\n",
    "print(classif)"
   ]
  },
  {
   "cell_type": "code",
   "execution_count": null,
   "metadata": {},
   "outputs": [],
   "source": [
    "plt.gca().set_aspect(\"equal\")\n",
    "plt.xlim(-3, 3)\n",
    "plt.ylim(-3, 3)\n",
    "plot_boundary(plt.gca(), model)\n",
    "plot_points(X, y)\n",
    "plt.title('Kernel SVM')\n",
    "plt.savefig('kernel_svm.png', dpi=300)"
   ]
  },
  {
   "cell_type": "markdown",
   "metadata": {},
   "source": [
    "## Soft-margin hyperparameter C"
   ]
  },
  {
   "cell_type": "code",
   "execution_count": null,
   "metadata": {},
   "outputs": [],
   "source": [
    "X = np.array([[1, 2, 1, -1, -1, -2], [1, 1, 2, -1, -2, -1]])\n",
    "y = np.array([1, 1, 1, -1, -1, -1])\n",
    "C = np.inf\n",
    "options = {'verb': False, \n",
    "           't_max': float('inf'),\n",
    "           'kernel': 'linear'}\n",
    " \n",
    "model = svm(X, y, C, options)\n",
    "plot_points(X, y)\n",
    "plot_boundary(plt.gca(), model)\n",
    "plt.gca().set_aspect(\"equal\")\n",
    "plt.title('Soft-margin SVM, C = {}'.format(C))\n",
    "plt.savefig('example_linear_svm_zero_error.png', dpi=600)"
   ]
  },
  {
   "cell_type": "code",
   "execution_count": null,
   "metadata": {},
   "outputs": [],
   "source": [
    "data = np.load(\"data_svm1.npz\", allow_pickle=True)\n",
    "X_toy = data[\"X\"]\n",
    "y_toy = data[\"y\"]"
   ]
  },
  {
   "cell_type": "code",
   "execution_count": null,
   "metadata": {},
   "outputs": [],
   "source": [
    "C = np.inf\n",
    "options = {'verb': False, \n",
    "           't_max': float('inf'),\n",
    "           'kernel': 'linear'}\n",
    "model = svm(X_toy, y_toy, C, options=options)\n",
    "plot_points(X_toy, y_toy)\n",
    "plot_boundary(plt.gca(), model)\n",
    "plt.gca().set_aspect(\"equal\")\n",
    "plt.title('Soft-margin SVM, C = {}'.format(C))\n",
    "plt.savefig('linear_svm_zero_error.png', dpi=600)"
   ]
  },
  {
   "cell_type": "code",
   "execution_count": null,
   "metadata": {},
   "outputs": [],
   "source": [
    "C = 1\n",
    "options = {'verb': False, \n",
    "           't_max': float('inf'),\n",
    "           'kernel': 'linear'}\n",
    "model = svm(X_toy, y_toy, C, options=options)\n",
    "plot_points(X_toy, y_toy)\n",
    "plot_boundary(plt.gca(), model)\n",
    "plt.title('Soft-margin SVM, C = {}'.format(C))\n",
    "plt.gca().set_aspect(\"equal\")\n",
    "plt.savefig('linear_svm.png', dpi=600)"
   ]
  },
  {
   "cell_type": "markdown",
   "metadata": {},
   "source": [
    "### Interactive C demo"
   ]
  },
  {
   "cell_type": "code",
   "execution_count": null,
   "metadata": {},
   "outputs": [],
   "source": [
    "try:\n",
    "    from ipywidgets import interact, interactive, fixed\n",
    "    \n",
    "    @interact(C=(0.001,100.,0.001))\n",
    "    def soft_margin(C=1):\n",
    "        model = svm(X_toy, y_toy, C, options={'verb': False,\n",
    "                                              't_max': float('inf'),\n",
    "                                              'kernel': 'linear'})\n",
    "        plt.gca().set_aspect(\"equal\")\n",
    "        plot_points(X_toy, y_toy)\n",
    "        plot_boundary(plt.gca(), model)\n",
    "        plt.title('Soft-margin SVM, C = {}'.format(C));\n",
    "        \n",
    "except ImportError:\n",
    "    print('Optional feature.')"
   ]
  },
  {
   "cell_type": "markdown",
   "metadata": {},
   "source": [
    "## Comparing different kernels - test on flower data"
   ]
  },
  {
   "cell_type": "code",
   "execution_count": null,
   "metadata": {},
   "outputs": [],
   "source": [
    "data = np.load(\"flower.npz\", allow_pickle=True)\n",
    "X = data[\"X\"]\n",
    "y = data[\"y\"]"
   ]
  },
  {
   "cell_type": "markdown",
   "metadata": {},
   "source": [
    "### RBF"
   ]
  },
  {
   "cell_type": "code",
   "execution_count": null,
   "metadata": {},
   "outputs": [],
   "source": [
    "C = 10\n",
    "sigma = 0.1\n",
    "options = {'verb': False, \n",
    "           't_max': float('inf'),\n",
    "           'kernel': 'rbf', \n",
    "           'sigma': sigma}\n",
    " \n",
    "model = svm(X, y, C, options)\n",
    "model['b']\n",
    "#print(model)"
   ]
  },
  {
   "cell_type": "code",
   "execution_count": null,
   "metadata": {},
   "outputs": [],
   "source": [
    "plot_points(X, y)\n",
    "plt.title('RBF kernel $\\sigma$={}'.format(sigma))\n",
    "plt.gca().set_aspect(\"equal\")\n",
    "plot_boundary(plt.gca(), model)\n",
    "plt.savefig('flower_rbf.png', dpi=300)"
   ]
  },
  {
   "cell_type": "markdown",
   "metadata": {},
   "source": [
    "### Polynomial"
   ]
  },
  {
   "cell_type": "code",
   "execution_count": null,
   "metadata": {},
   "outputs": [],
   "source": [
    "C = 10000\n",
    "d = 4\n",
    "options = {'verb': False, \n",
    "           't_max': float('inf'), \n",
    "           'kernel': 'polynomial', \n",
    "           'd': d}\n",
    " \n",
    "model = svm(X, y, C, options)"
   ]
  },
  {
   "cell_type": "code",
   "execution_count": null,
   "metadata": {},
   "outputs": [],
   "source": [
    "plot_points(X, y)\n",
    "plt.gca().set_aspect(\"equal\")\n",
    "plt.title('Polynomial kernel $d$={}'.format(d))\n",
    "plot_boundary(plt.gca(), model)\n",
    "plt.savefig('flower_polynomial.png', dpi=300)"
   ]
  },
  {
   "cell_type": "markdown",
   "metadata": {},
   "source": [
    "# Part 2: Model selection"
   ]
  },
  {
   "cell_type": "code",
   "execution_count": null,
   "metadata": {},
   "outputs": [],
   "source": [
    "data = np.load(\"data_svm1_images.npz\", allow_pickle=True)\n",
    "trn_data = data[\"trn\"].item()\n",
    "tst_data = data[\"tst\"].item()\n",
    "\n",
    "X_trn, y_trn, norm_trn = compute_measurements_2d(trn_data)\n",
    "X_tst, y_tst, _ = compute_measurements_2d(tst_data, norm_trn)"
   ]
  },
  {
   "cell_type": "code",
   "execution_count": null,
   "metadata": {},
   "outputs": [],
   "source": [
    "np.random.seed(42)\n",
    "trn_folds, tst_folds = crossval(y_trn.size, num_folds=4)\n",
    "Cs = [0.001, 0.1, 1, 10]\n",
    "ds = [1, 3, 5]\n",
    "\n",
    "best_params = None\n",
    "best_err = np.inf\n",
    "for C in Cs:\n",
    "    for d in ds:\n",
    "        options = {'verb': False, 't_max': 100000,\n",
    "                  'kernel': 'polynomial', 'd': d}\n",
    "        err = svm_crossvalidation(trn_folds, tst_folds, X_trn, y_trn, C, options)\n",
    "\n",
    "        if err < best_err:\n",
    "            best_err = err\n",
    "            best_params = (C, d)\n",
    "        print('C {}, d {} -> err {}'.format(C, d, err))\n",
    "\n",
    "print('best params: C={}, d={}'.format(best_params[0], best_params[1]))"
   ]
  },
  {
   "cell_type": "code",
   "execution_count": null,
   "metadata": {},
   "outputs": [],
   "source": [
    "C = best_params[0]\n",
    "d = best_params[1]\n",
    "\n",
    "options = {'verb': False, \n",
    "           't_max': float('inf'),\n",
    "           'kernel': 'polynomial', \n",
    "           'd': d}\n",
    "model = svm(X_trn, y_trn, C, options)"
   ]
  },
  {
   "cell_type": "code",
   "execution_count": null,
   "metadata": {},
   "outputs": [],
   "source": [
    "plot_points(X_trn, y_trn, size=2)\n",
    "plt.gca().set_aspect(\"equal\")\n",
    "plt.grid(linestyle='--')\n",
    "plt.title('Polynomial kernel $d$={} TRN data'.format(d))\n",
    "plot_boundary(plt.gca(), model, plot_support_vectors=False)\n",
    "plt.savefig('ocr_polynomial_kernel_trn.png', dpi=300)"
   ]
  },
  {
   "cell_type": "code",
   "execution_count": null,
   "metadata": {},
   "outputs": [],
   "source": [
    "classif = classif_svm(X_tst, model)\n",
    "err = np.mean(classif != y_tst)\n",
    "print(err)"
   ]
  },
  {
   "cell_type": "code",
   "execution_count": null,
   "metadata": {},
   "outputs": [],
   "source": [
    "plt.gca().set_aspect(\"equal\")\n",
    "plot_points(X_tst, y_tst, size=5)\n",
    "plt.gca().relim()\n",
    "plt.grid(linestyle='--')\n",
    "plt.title('Polynomial kernel $d$={} TST data'.format(d))\n",
    "plot_boundary(plt.gca(), model, plot_support_vectors=False)\n",
    "plt.savefig('ocr_polynomial_kernel_tst.png')"
   ]
  },
  {
   "cell_type": "code",
   "execution_count": null,
   "metadata": {},
   "outputs": [],
   "source": [
    "labels = classif.copy()\n",
    "labels[labels == 1] = 0\n",
    "labels[labels == -1] = 1\n",
    "\n",
    "plt.figure(figsize=(15,10))\n",
    "show_classification(tst_data['images'], labels, 'AC')\n",
    "plt.savefig('ocr_svm_classif.png', dpi=300)"
   ]
  },
  {
   "cell_type": "markdown",
   "metadata": {},
   "source": [
    "# Part 3: Real world example - digit classification"
   ]
  },
  {
   "cell_type": "code",
   "execution_count": null,
   "metadata": {},
   "outputs": [],
   "source": [
    "data = np.load(\"mnist_trn.npz\", allow_pickle=True)\n",
    "X_trn = data['X']\n",
    "y_trn = data['y']"
   ]
  },
  {
   "cell_type": "code",
   "execution_count": null,
   "metadata": {},
   "outputs": [],
   "source": [
    "np.random.seed(42)\n",
    "trn_folds, tst_folds = crossval(y_trn.size, num_folds=5)\n",
    "sigmas = [0.1, 1, 10, 20, 100, 1000]\n",
    "Cs = [0.01, 0.1, 1, 10]\n",
    "\n",
    "best_params = None\n",
    "best_err = np.inf\n",
    "for C in Cs:\n",
    "    for sigma in sigmas:\n",
    "        options = {'verb': False, 't_max': float('inf'),\n",
    "                   'kernel': 'rbf', 'sigma': sigma}\n",
    "        err = svm_crossvalidation(trn_folds, tst_folds, X_trn, y_trn, C, options)\n",
    "\n",
    "        if err < best_err:\n",
    "            best_err = err\n",
    "            best_params = (C, sigma)\n",
    "        print('C {}, sigma {} -> err {}'.format(C, sigma, err))\n",
    "\n",
    "print('best params: C={}, sigma={}'.format(best_params[0], best_params[1]))"
   ]
  },
  {
   "cell_type": "code",
   "execution_count": null,
   "metadata": {},
   "outputs": [],
   "source": [
    "C = best_params[0]\n",
    "sigma = best_params[1]\n",
    "\n",
    "options = {'verb': False, 't_max': float('inf'),\n",
    "           'kernel': 'rbf', 'sigma': sigma}\n",
    "model = svm(X_trn, y_trn, C, options)"
   ]
  },
  {
   "cell_type": "code",
   "execution_count": null,
   "metadata": {},
   "outputs": [],
   "source": [
    "data = np.load(\"mnist_tst.npz\", allow_pickle=True)\n",
    "X_tst = data['X']\n",
    "y_tst = data['y']"
   ]
  },
  {
   "cell_type": "code",
   "execution_count": null,
   "metadata": {},
   "outputs": [],
   "source": [
    "classif = None\n",
    "err = None\n",
    "print(np.round(err, 8))"
   ]
  },
  {
   "cell_type": "code",
   "execution_count": null,
   "metadata": {},
   "outputs": [],
   "source": [
    "plt.figure(figsize=(15,10))\n",
    "show_classification(X_tst.reshape(28,28,-1), classif > 0, '01')\n",
    "plt.savefig('mnist_tst_classif.png', dpi=300)"
   ]
  }
 ],
 "metadata": {
  "kernelspec": {
   "display_name": "Python 3 (ipykernel)",
   "language": "python",
   "name": "python3"
  },
  "language_info": {
   "codemirror_mode": {
    "name": "ipython",
    "version": 3
   },
   "file_extension": ".py",
   "mimetype": "text/x-python",
   "name": "python",
   "nbconvert_exporter": "python",
   "pygments_lexer": "ipython3",
   "version": "3.10.8"
  }
 },
 "nbformat": 4,
 "nbformat_minor": 4
}
