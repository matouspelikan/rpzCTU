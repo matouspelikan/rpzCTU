{
 "cells": [
  {
   "cell_type": "markdown",
   "metadata": {},
   "source": [
    "# Task 08 - Support Vector Machines (SVM)\n",
    "## Pattern Recognition and Machine Learning"
   ]
  },
  {
   "cell_type": "markdown",
   "metadata": {},
   "source": [
    "Copy and import needed files/methods from previous assignment to this directory. \n",
    "Adding path to the previous assignment is not sufficient. Upload system\n",
    "requires your code to be self contained."
   ]
  },
  {
   "cell_type": "code",
   "execution_count": null,
   "metadata": {},
   "outputs": [],
   "source": [
    "%load_ext autoreload\n",
    "%autoreload 2\n",
    "# uncomment following for interactive matplotlib\n",
    "# %matplotlib notebook\n",
    "\n",
    "from svm1 import *\n",
    "import numpy as np"
   ]
  },
  {
   "cell_type": "markdown",
   "metadata": {},
   "source": [
    "## Train SVM on simple data"
   ]
  },
  {
   "cell_type": "code",
   "execution_count": null,
   "metadata": {},
   "outputs": [],
   "source": [
    "X = np.array([[1, 2, 1, -1, -1, -2], [1, 1, 2, -1, -2, -1]])\n",
    "y = np.array([1, 1, 1, -1, -1, -1])\n",
    "C = np.inf;\n",
    "\n",
    "[w, b, sv_idx]  = my_svm(X, y, C)\n",
    "\n",
    "print('\\n', 'w: ', w, '\\n', 'b: ', b, '\\n', 'sv_idx:', sv_idx)"
   ]
  },
  {
   "cell_type": "code",
   "execution_count": null,
   "metadata": {},
   "outputs": [],
   "source": [
    "plot_points(X, y)\n",
    "plt.axis('equal')\n",
    "plot_boundary(plt.gca(), w, b, X[:, sv_idx])\n",
    "plt.title('Soft-margin SVM, C = {}'.format(C));\n",
    "\n"
   ]
  },
  {
   "cell_type": "markdown",
   "metadata": {},
   "source": [
    "## Toy data"
   ]
  },
  {
   "cell_type": "markdown",
   "metadata": {},
   "source": [
    "### Load the data"
   ]
  },
  {
   "cell_type": "code",
   "execution_count": null,
   "metadata": {},
   "outputs": [],
   "source": [
    "data = np.load(\"data_svm1.npz\", allow_pickle=True)\n",
    "X_toy = data[\"X\"]\n",
    "y_toy = data[\"y\"]"
   ]
  },
  {
   "cell_type": "markdown",
   "metadata": {},
   "source": [
    "### Train Soft-margin SVM"
   ]
  },
  {
   "cell_type": "code",
   "execution_count": null,
   "metadata": {},
   "outputs": [],
   "source": [
    "C = 1\n",
    "w, b, sv_idx = my_svm(X_toy, y_toy, C, options={'verb': False})"
   ]
  },
  {
   "cell_type": "markdown",
   "metadata": {},
   "source": [
    "### Visualize"
   ]
  },
  {
   "cell_type": "code",
   "execution_count": null,
   "metadata": {},
   "outputs": [],
   "source": [
    "plot_points(X_toy, y_toy)\n",
    "plot_boundary(plt.gca(), w, b, X_toy[:, sv_idx])\n",
    "plt.title('Soft-margin SVM, C = {}'.format(C))\n",
    "plt.axis('equal')\n",
    "plt.savefig('linear_svm.png')\n",
    "\n"
   ]
  },
  {
   "cell_type": "code",
   "execution_count": null,
   "metadata": {},
   "outputs": [],
   "source": [
    "try:\n",
    "    from ipywidgets import interact, interactive, fixed\n",
    "    \n",
    "    @interact(C=(0.001,10.,0.001))\n",
    "    def soft_margin(C=1):\n",
    "        w, b, sv_idx = my_svm(X_toy, y_toy, C, options={'verb': False})\n",
    "        plt.axis('equal')\n",
    "        plot_points(X_toy, y_toy)\n",
    "        plot_boundary(plt.gca(), w, b, X_toy[:, sv_idx])\n",
    "        plt.title('Soft-margin SVM, C = {}'.format(C));\n",
    "        \n",
    "except ImportError:\n",
    "    print('Optional feature.')"
   ]
  },
  {
   "cell_type": "markdown",
   "metadata": {},
   "source": [
    "## OCR data\n",
    "### Load the data"
   ]
  },
  {
   "cell_type": "code",
   "execution_count": null,
   "metadata": {},
   "outputs": [],
   "source": [
    "data = np.load(\"data_svm1_images.npz\", allow_pickle=True)\n",
    "tst = data[\"tst\"].item()\n",
    "trn = data[\"trn\"].item()\n",
    "\n",
    "X_trn, y_trn, norm_trn = compute_measurements_2d(trn)"
   ]
  },
  {
   "cell_type": "markdown",
   "metadata": {},
   "source": [
    "### Find optimal C\n",
    "This will probably take around 10 minutes"
   ]
  },
  {
   "cell_type": "code",
   "execution_count": null,
   "metadata": {},
   "outputs": [],
   "source": [
    "np.random.seed(42)\n",
    "trn_folds, tst_folds = crossval(y_trn.size, num_folds=10)\n",
    "\n",
    "best_C = None\n",
    "best_C_err = np.inf\n",
    "for C in [10, 1, 0.1, 0.01, 0.001]:\n",
    "    \n",
    "    C_err = compute_test_error(trn_folds, tst_folds, X_trn, y_trn, C)\n",
    "    \n",
    "    if C_err < best_C_err:\n",
    "        best_C_err = C_err\n",
    "        best_C = C\n",
    "    print('C {} -> err {}'.format(C, C_err))\n",
    "\n",
    "print('answers.txt 4: best C: {}'.format(best_C))\n"
   ]
  },
  {
   "cell_type": "markdown",
   "metadata": {},
   "source": [
    "### Train SVM with optimal C"
   ]
  },
  {
   "cell_type": "code",
   "execution_count": null,
   "metadata": {},
   "outputs": [],
   "source": [
    "w, b, sv_idx = my_svm(X_trn, y_trn, best_C, options={'verb': False})"
   ]
  },
  {
   "cell_type": "markdown",
   "metadata": {},
   "source": [
    "### visualize"
   ]
  },
  {
   "cell_type": "code",
   "execution_count": null,
   "metadata": {},
   "outputs": [],
   "source": [
    "plt.figure(figsize=(8,8))\n",
    "plot_points(X_trn, y_trn, size=2)\n",
    "plot_boundary(plt.gca(), w, b, None)\n",
    "plt.title('Linear SVM train data')\n",
    "plt.axis('equal')\n",
    "plt.savefig('ocr_svm_trn.png')\n",
    "\n"
   ]
  },
  {
   "cell_type": "markdown",
   "metadata": {},
   "source": [
    "### Classify test data"
   ]
  },
  {
   "cell_type": "code",
   "execution_count": null,
   "metadata": {},
   "outputs": [],
   "source": [
    "X_tst, y_tst, norm_tst = compute_measurements_2d(tst, norm_trn)\n",
    "classif = classif_linear_svm(X_tst, {'w': w, 'b': b})"
   ]
  },
  {
   "cell_type": "code",
   "execution_count": null,
   "metadata": {},
   "outputs": [],
   "source": [
    "raise NotImplementedError(\"You have to implement the rest.\")\n",
    "error = None\n",
    "\n"
   ]
  },
  {
   "cell_type": "markdown",
   "metadata": {},
   "source": [
    "### And visualize"
   ]
  },
  {
   "cell_type": "code",
   "execution_count": null,
   "metadata": {},
   "outputs": [],
   "source": [
    "plt.figure(figsize=(8,8))\n",
    "plot_points(X_tst, y_tst)\n",
    "plot_boundary(plt.gca(), w, b, None)\n",
    "plt.axis('equal')\n",
    "plt.title('Linear SVM test data')\n",
    "plt.savefig('ocr_svm_tst.png')\n",
    "\n"
   ]
  },
  {
   "cell_type": "code",
   "execution_count": null,
   "metadata": {},
   "outputs": [],
   "source": [
    "labels = classif.copy()\n",
    "labels[labels == 1] = 0\n",
    "labels[labels == -1] = 1\n",
    "\n",
    "plt.figure()\n",
    "show_classification(tst['images'], labels, 'AC')\n",
    "plt.savefig('ocr_svm_classif.png')\n",
    "\n"
   ]
  },
  {
   "cell_type": "code",
   "execution_count": null,
   "metadata": {},
   "outputs": [],
   "source": []
  }
 ],
 "metadata": {
  "kernelspec": {
   "display_name": "Python 3",
   "language": "python",
   "name": "python3"
  },
  "language_info": {
   "codemirror_mode": {
    "name": "ipython",
    "version": 3
   },
   "file_extension": ".py",
   "mimetype": "text/x-python",
   "name": "python",
   "nbconvert_exporter": "python",
   "pygments_lexer": "ipython3",
   "version": "3.8.6"
  }
 },
 "nbformat": 4,
 "nbformat_minor": 4
}
