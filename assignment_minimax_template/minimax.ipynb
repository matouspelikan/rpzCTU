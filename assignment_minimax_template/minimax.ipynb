{
 "cells": [
  {
   "cell_type": "markdown",
   "metadata": {},
   "source": [
    "# Task 03 - MINIMAX\n",
    "## Pattern Recognition and Machine Learning"
   ]
  },
  {
   "cell_type": "code",
   "execution_count": null,
   "metadata": {},
   "outputs": [],
   "source": [
    "%load_ext autoreload\n",
    "%autoreload 2"
   ]
  },
  {
   "cell_type": "code",
   "execution_count": null,
   "metadata": {},
   "outputs": [],
   "source": [
    "# uncomment following for interactive matplotlib\n",
    "# %matplotlib notebook\n",
    "from minimax import *\n",
    "import scipy.io\n",
    "import numpy as np\n",
    "import matplotlib.pyplot as plt\n",
    "import matplotlib.patches as patches\n",
    "import copy\n",
    "from PIL import Image"
   ]
  },
  {
   "cell_type": "markdown",
   "metadata": {},
   "source": [
    "#### Load data from *.npz files"
   ]
  },
  {
   "cell_type": "code",
   "execution_count": null,
   "metadata": {},
   "outputs": [],
   "source": [
    "data = np.load(\"data_33rpz_03_minimax.npz\", allow_pickle=True)\n",
    "alphabet = data[\"alphabet\"]\n",
    "images_tst = data[\"images_test\"]\n",
    "labels_tst = data[\"labels_test\"]\n",
    "cont = data[\"cont\"].item()\n",
    "discrete = data[\"discrete\"].item()"
   ]
  },
  {
   "cell_type": "markdown",
   "metadata": {},
   "source": [
    "## Discrete"
   ]
  },
  {
   "cell_type": "code",
   "execution_count": null,
   "metadata": {},
   "outputs": [],
   "source": [
    "# fill your initials (There are Mirek Dušín and Chuck Norris in the assignment)\n",
    "letters = \"CN\"\n",
    "D1 = discrete[letters[0]].copy()\n",
    "D2 = discrete[letters[1]].copy()\n",
    "\n",
    "# plot the distributions\n",
    "plt.figure(figsize=(13, 5))\n",
    "plt.subplot(1, 2, 1)\n",
    "plt.imshow(D1, extent=[-10,10,10,-10])\n",
    "plt.xlabel('Y')\n",
    "plt.ylabel('X')\n",
    "plt.colorbar(fraction=0.046, pad=0.04)\n",
    "plt.title('p(X,Y|\"' + letters[0] + '\")')\n",
    "plt.gca().xaxis.set_major_locator(MaxNLocator(integer=True))\n",
    "plt.gca().yaxis.set_major_locator(MaxNLocator(integer=True))\n",
    "\n",
    "plt.subplot(1, 2, 2)\n",
    "plt.imshow(D2, extent=[-10,10,10,-10])\n",
    "plt.colorbar(fraction=0.046, pad=0.04)\n",
    "plt.xlabel('Y')\n",
    "plt.title('p(X,Y|\"' + letters[1] + '\")')\n",
    "plt.gca().xaxis.set_major_locator(MaxNLocator(integer=True))\n",
    "plt.gca().yaxis.set_major_locator(MaxNLocator(integer=True))\n",
    "\n",
    "# plt.savefig('minimax_distributions_discrete.png')"
   ]
  },
  {
   "cell_type": "code",
   "execution_count": null,
   "metadata": {},
   "outputs": [],
   "source": [
    "# the optimal Minimax strategy\n",
    "q_minimax_discrete, opt_i, eps1, eps2 = minimax_strategy_discrete(D1, D2)\n",
    "\n",
    "# plot the search for the strategy\n",
    "# plt.figure()\n",
    "plot_lr_threshold(eps1, eps2, opt_i)\n",
    "plt.savefig('minimax_lr_search_discrete.png')\n",
    "\n",
    "# show the strategy\n",
    "plot_discrete_strategy(q_minimax_discrete, letters)\n",
    "plt.savefig('minimax_strategy_discrete.png')"
   ]
  },
  {
   "cell_type": "code",
   "execution_count": null,
   "metadata": {},
   "outputs": [],
   "source": [
    "# classification\n",
    "images_test_2classes, labels_gt = create_test_set(images_tst, labels_tst, letters, alphabet)\n",
    "\n",
    "labels_estimated_discrete = classify_discrete(images_test_2classes, q_minimax_discrete)\n",
    "\n",
    "error_discrete = classification_error_discrete(images_test_2classes, labels_gt, q_minimax_discrete)"
   ]
  },
  {
   "cell_type": "code",
   "execution_count": null,
   "metadata": {},
   "outputs": [],
   "source": [
    "# classification visualisation\n",
    "fig = plt.figure()\n",
    "show_classification(images_test_2classes, labels_estimated_discrete, letters)\n",
    "plt.suptitle('Classification results for Minimax, discrete measurements')\n",
    "plt.savefig('minimax_classif_discrete.png')\n",
    "\n",
    "print('Error discrete: {:.4f}'.format(error_discrete))"
   ]
  },
  {
   "cell_type": "markdown",
   "metadata": {},
   "source": [
    "## Continuous"
   ]
  },
  {
   "cell_type": "code",
   "execution_count": null,
   "metadata": {},
   "outputs": [],
   "source": [
    "# D1 priors\n",
    "p_1 = np.linspace(0,1,101)\n",
    "\n",
    "# zero one loss function (every error is penalised equally independent of the class)\n",
    "W = np.array([[0, 1], [1, 0]])"
   ]
  },
  {
   "cell_type": "code",
   "execution_count": null,
   "metadata": {},
   "outputs": [],
   "source": [
    "# fill your initials\n",
    "letters = 'MD'\n",
    "D1 = cont[letters[0]].copy()\n",
    "D2 = cont[letters[1]].copy()"
   ]
  },
  {
   "cell_type": "markdown",
   "metadata": {},
   "source": [
    "#### Visualisation"
   ]
  },
  {
   "cell_type": "code",
   "execution_count": null,
   "metadata": {},
   "outputs": [],
   "source": [
    "risk = np.zeros_like(p_1)\n",
    "for i in range(p_1.size):\n",
    "    D1['Prior'] = float(p_1[i])\n",
    "    D2['Prior'] = float(1 - p_1[i])\n",
    "    q = find_strategy_2normal(D1, D2)\n",
    "    risk[i] = bayes_risk_2normal(D1, D2, q)"
   ]
  },
  {
   "cell_type": "code",
   "execution_count": null,
   "metadata": {},
   "outputs": [],
   "source": [
    "D1['Prior'] = 0.25\n",
    "D2['Prior'] = 1 - D1['Prior']\n",
    "q_p1_fix = find_strategy_2normal(D1, D2)\n",
    "risk_fix = risk_fix_q_cont(D1, D2, p_1, q_p1_fix)"
   ]
  },
  {
   "cell_type": "code",
   "execution_count": null,
   "metadata": {},
   "outputs": [],
   "source": [
    "worst_risk = worst_risk_cont(D1, D2, p_1)"
   ]
  },
  {
   "cell_type": "code",
   "execution_count": null,
   "metadata": {},
   "outputs": [],
   "source": [
    "plt.figure(figsize=(10,6))\n",
    "plt.plot(p_1, risk, 'b')\n",
    "plt.plot(p_1, risk_fix, 'k')\n",
    "plt.plot(p_1, worst_risk ,'r')\n",
    "\n",
    "plt.ylim([0, 1.01])\n",
    "plt.xlim([0, 1.0])\n",
    "plt.ylabel('risk')\n",
    "plt.xlabel('p_K(\\'{}\\')'.format(letters[0]))\n",
    "plt.legend(['risk of Bayesian strategy', 'risk of fixed strategy', 'worst risk of Bayesian strategy'])\n",
    "plt.title('Bayesian risk for varying prior - letters {} and {}'.format(letters[0], letters[1]))\n",
    "plt.grid('on')\n",
    "# plt.savefig('plots_cont_' + letters.lower() + '.png')\n",
    "plt.savefig('plots_cont.png')"
   ]
  },
  {
   "cell_type": "code",
   "execution_count": null,
   "metadata": {},
   "outputs": [],
   "source": [
    "# plot_bayesian_risk_for_varying_prior(letters, risk, risk_fix, worst_risk)\n",
    "# # plt.savefig('plots_cont_' + letters.lower() + '.png')\n",
    "# plt.savefig('plots_cont.png')"
   ]
  },
  {
   "cell_type": "code",
   "execution_count": null,
   "metadata": {},
   "outputs": [],
   "source": [
    "def plot_bayesian_risk_for_varying_prior(letters, risk, risk_fix, worst_risk):\n",
    "    plt.figure(figsize=(10,6))\n",
    "    plt.plot(p_1, risk, 'b')\n",
    "    plt.plot(p_1, risk_fix, 'k')\n",
    "    plt.plot(p_1, worst_risk ,'r');\n",
    "\n",
    "    plt.ylim([0, 1.01])\n",
    "    plt.xlim([0, 1.0])\n",
    "    plt.ylabel('R')\n",
    "    plt.xlabel('p_K(x)')\n",
    "    plt.legend(['risk of Bayesian strategy', 'risk of fixed strategy', 'worst risk of Bayesian strategy'])\n",
    "    plt.title('Bayesian risk for varying prior. Letters {}, {}'.format(letters[0], letters[1]))\n",
    "    plt.grid('on')"
   ]
  },
  {
   "cell_type": "code",
   "execution_count": null,
   "metadata": {},
   "outputs": [],
   "source": [
    "try:\n",
    "    from ipywidgets import interact, interactive, fixed\n",
    "    \n",
    "    @interact(letter1=alphabet, letter2=alphabet, prior1_fixed=(0.,1.,0.01))\n",
    "    def plot_bayes_cont_interactive(letter1='M', letter2='D', prior1_fixed=0.25):\n",
    "        D1 = cont[letter1]\n",
    "        D2 = cont[letter2]\n",
    "        letters = letter1 + letter2\n",
    "        \n",
    "        risk = np.zeros_like(p_1)\n",
    "        for i in range(p_1.size):\n",
    "            D1['Prior'] = float(p_1[i])\n",
    "            D2['Prior'] = float(1 - p_1[i])\n",
    "            q = find_strategy_2normal(D1, D2)\n",
    "            risk[i] = bayes_risk_2normal(D1, D2, q)\n",
    "        \n",
    "        D1['Prior'] = prior1_fixed\n",
    "        D2['Prior'] = 1 - D1['Prior']\n",
    "        q_p1_fix = find_strategy_2normal(D1, D2)\n",
    "        risk_fix = risk_fix_q_cont(D1, D2, p_1, q_p1_fix)\n",
    "        worst_risk = worst_risk_cont(D1, D2, p_1)\n",
    "        plot_bayesian_risk_for_varying_prior(letters, risk, risk_fix, worst_risk)\n",
    "\n",
    "except ImportError:\n",
    "    print('Optional feature.')"
   ]
  },
  {
   "cell_type": "markdown",
   "metadata": {},
   "source": [
    "#### Classification"
   ]
  },
  {
   "cell_type": "code",
   "execution_count": null,
   "metadata": {},
   "outputs": [],
   "source": [
    "q_minimax_cont, risk_minimax_cont = minimax_strategy_cont(D1, D2)\n",
    "print('q: {}'.format(q_minimax_cont))\n",
    "print('risk: {}'.format(risk_minimax_cont))\n",
    "# labels_estimated_cont = classify_2normal(images_test_set, q_minimax_cont)\n",
    "                                  \n",
    "# error_cont = classification_error_2normal(images_test_set, labels_test_set, q_minimax_cont)\n",
    "images_test_cont, labels_test_cont = create_test_set(images_tst, labels_tst, letters, alphabet)\n",
    "\n",
    "labels_estimated_cont = classify_2normal(images_test_cont, q_minimax_cont)\n",
    "                                  \n",
    "error_cont = classification_error_2normal(images_test_cont, labels_test_cont, q_minimax_cont)"
   ]
  },
  {
   "cell_type": "code",
   "execution_count": null,
   "metadata": {},
   "outputs": [],
   "source": [
    "fig = plt.figure()\n",
    "show_classification(images_test_cont, labels_estimated_cont, letters)\n",
    "plt.suptitle('Classification results for Minimax, continuous measurements')\n",
    "# plt.savefig('minimax_classif_cont_' + letters.lower() + '.png')\n",
    "plt.savefig('minimax_classif_cont.png')\n",
    "print('Error cont: {:.4f}'.format(error_cont))"
   ]
  },
  {
   "cell_type": "code",
   "execution_count": null,
   "metadata": {},
   "outputs": [],
   "source": []
  }
 ],
 "metadata": {
  "kernelspec": {
   "display_name": "Python 3",
   "language": "python",
   "name": "python3"
  },
  "language_info": {
   "codemirror_mode": {
    "name": "ipython",
    "version": 3
   },
   "file_extension": ".py",
   "mimetype": "text/x-python",
   "name": "python",
   "nbconvert_exporter": "python",
   "pygments_lexer": "ipython3",
   "version": "3.6.8"
  },
  "pycharm": {
   "stem_cell": {
    "cell_type": "raw",
    "metadata": {
     "collapsed": false
    },
    "source": []
   }
  }
 },
 "nbformat": 4,
 "nbformat_minor": 4
}
