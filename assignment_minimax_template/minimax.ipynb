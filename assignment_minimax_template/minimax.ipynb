{
 "cells": [
  {
   "cell_type": "markdown",
   "metadata": {},
   "source": [
    "# Task 03 - MINIMAX\n",
    "## Pattern Recognition and Machine Learning"
   ]
  },
  {
   "cell_type": "markdown",
   "metadata": {},
   "source": [
    "Copy and import needed files/methods from previous assignment to this directory. \n",
    "Adding path to the previous assignment is not sufficient. Upload system\n",
    "requires your code to be self contained."
   ]
  },
  {
   "cell_type": "code",
   "execution_count": null,
   "metadata": {},
   "outputs": [],
   "source": [
    "# uncomment following for interactive matplotlib\n",
    "# %matplotlib notebook\n",
    "from bayes import *\n",
    "from minimax import *\n",
    "import scipy.io\n",
    "import numpy as np\n",
    "import matplotlib.pyplot as plt\n",
    "import matplotlib.patches as patches\n",
    "import copy\n",
    "from PIL import Image"
   ]
  },
  {
   "cell_type": "markdown",
   "metadata": {},
   "source": [
    "#### Load data from *.mat files"
   ]
  },
  {
   "cell_type": "code",
   "execution_count": null,
   "metadata": {},
   "outputs": [],
   "source": [
    "def unwrap(data):\n",
    "    \"\"\"\n",
    "    Simple \"hack\" for preparing data from *.mat files\n",
    "    \"\"\"\n",
    "    try:\n",
    "        while (len(data) == 1) and (len(data.shape) > 0):\n",
    "            data = data[0]\n",
    "        for key in list(data.dtype.names):\n",
    "            data[key] = unwrap(data[key])\n",
    "    except:\n",
    "        pass\n",
    "    return data\n",
    "\n",
    "def ndarray2dict(data):\n",
    "    outputs = {}\n",
    "    for key in list(data.dtype.names):\n",
    "        value = unwrap(data[key])\n",
    "        try:\n",
    "            if len(value.shape) > 0:\n",
    "                value = np.atleast_2d(value)\n",
    "        except:\n",
    "            pass\n",
    "        outputs[key] = value\n",
    "    return outputs\n",
    "    \n",
    "data = scipy.io.loadmat(\"data_33rpz_03_minimax.mat\")\n",
    "Alphabet = np.array(list(unwrap(data[\"Alphabet\"])))\n",
    "images_test = unwrap(data[\"images_test\"])\n",
    "cont = unwrap(data[\"cont\"])\n",
    "discrete = unwrap(data[\"discrete\"])"
   ]
  },
  {
   "cell_type": "code",
   "execution_count": null,
   "metadata": {},
   "outputs": [],
   "source": [
    "# D1 priors\n",
    "p_1 = np.expand_dims(np.linspace(0,1,101),0)"
   ]
  },
  {
   "cell_type": "markdown",
   "metadata": {},
   "source": [
    "## Discrete"
   ]
  },
  {
   "cell_type": "code",
   "execution_count": null,
   "metadata": {},
   "outputs": [],
   "source": [
    "risk = np.zeros_like(p_1)\n",
    "# fill your initials\n",
    "D1 = discrete['M'] # Michal\n",
    "D2 = discrete['N'] # Neoral\n",
    "letters = 'MN'\n",
    "\n",
    "D1 = ndarray2dict(D1)\n",
    "D2 = ndarray2dict(D2)\n",
    "\n",
    "# zero one cost function (each error is penalised equally independent of the class)\n",
    "W = np.array([[0, 1], [1, 0]])"
   ]
  },
  {
   "cell_type": "code",
   "execution_count": null,
   "metadata": {},
   "outputs": [],
   "source": [
    "raise NotImplementedError(\"You have to implement following.\")\n",
    "risk[] = None"
   ]
  },
  {
   "cell_type": "code",
   "execution_count": null,
   "metadata": {},
   "outputs": [],
   "source": [
    "D1['Prior'] = 0.25\n",
    "D2['Prior'] = 1 - D1['Prior']\n",
    "q_p1_fix = find_strategy_discrete(D1, D2, W)\n",
    "raise NotImplementedError(\"You have to implement following.\")\n",
    "risk_fix = None"
   ]
  },
  {
   "cell_type": "code",
   "execution_count": null,
   "metadata": {},
   "outputs": [],
   "source": [
    "worst_risk = worst_risk_discrete(D1, D2, p_1)"
   ]
  },
  {
   "cell_type": "markdown",
   "metadata": {},
   "source": [
    "#### Visualisation"
   ]
  },
  {
   "cell_type": "code",
   "execution_count": null,
   "metadata": {},
   "outputs": [],
   "source": [
    "plt.plot(p_1[0], risk[0], 'b')\n",
    "plt.plot(p_1[0], risk_fix[0], 'k')\n",
    "plt.plot(p_1[0], worst_risk[0] ,'r')\n",
    "\n",
    "# ylim([0 0.2])\n",
    "plt.ylabel('R')\n",
    "plt.xlabel('p_K(x)')\n",
    "plt.legend(['risk of Bayesian strategy', 'risk of fixed strategy', 'worst risk of Bayesian strategy'])\n",
    "plt.title('Bayesian risk for varying prior')\n",
    "plt.grid('on')\n",
    "plt.savefig('plots_discrete.png')\n"
   ]
  },
  {
   "cell_type": "code",
   "execution_count": null,
   "metadata": {},
   "outputs": [],
   "source": [
    "q_minimax_discrete, risk_minimax_discrete = minmax_strategy_discrete(D1, D2)\n",
    "images_test_set, labels_test_set = create_test_set(images_test, letters)"
   ]
  },
  {
   "cell_type": "code",
   "execution_count": null,
   "metadata": {},
   "outputs": [],
   "source": [
    "raise NotImplementedError(\"You have to implement following.\")\n",
    "labels_estimated_discrete = None\n",
    "error_discrete = None"
   ]
  },
  {
   "cell_type": "markdown",
   "metadata": {},
   "source": [
    "#### Visualisation"
   ]
  },
  {
   "cell_type": "code",
   "execution_count": null,
   "metadata": {},
   "outputs": [],
   "source": [
    "fig = plt.figure()\n",
    "show_classification(images_test_set, labels_estimated_discrete, letters)\n",
    "plt.suptitle('Classification results for minimax, discrete measurements')\n",
    "plt.savefig('minmax_classif_discrete.png')\n",
    "print('Error: {:.2f} %'.format(error_discrete * 100))"
   ]
  },
  {
   "cell_type": "markdown",
   "metadata": {},
   "source": [
    "## Continuous"
   ]
  },
  {
   "cell_type": "code",
   "execution_count": null,
   "metadata": {},
   "outputs": [],
   "source": [
    "risk = np.zeros_like(p_1)\n",
    "# fill your initials\n",
    "D1 = cont['M'] # Michal\n",
    "D2 = cont['N'] # Neoral\n",
    "letters = 'MN'\n",
    "\n",
    "D1 = ndarray2dict(D1)\n",
    "D2 = ndarray2dict(D2)"
   ]
  },
  {
   "cell_type": "code",
   "execution_count": null,
   "metadata": {},
   "outputs": [],
   "source": [
    "for i in range(p_1.size):\n",
    "    D1['Prior'] = p_1[0,i]\n",
    "    D2['Prior'] = 1 - p_1[0,i]\n",
    "    q = find_strategy_2normal(D1, D2)\n",
    "    raise NotImplementedError(\"You have to implement following.\")\n",
    "    risk[] = None"
   ]
  },
  {
   "cell_type": "code",
   "execution_count": null,
   "metadata": {},
   "outputs": [],
   "source": [
    "D1['Prior'] = 0.25\n",
    "D2['Prior'] = 1 - D1['Prior']\n",
    "q_p1_fix = find_strategy_2normal(D1, D2)\n",
    "raise NotImplementedError(\"You have to implement following.\")\n",
    "risk_fix = None"
   ]
  },
  {
   "cell_type": "code",
   "execution_count": null,
   "metadata": {},
   "outputs": [],
   "source": [
    "worst_risk = worst_risk_cont(D1, D2, p_1)"
   ]
  },
  {
   "cell_type": "code",
   "execution_count": null,
   "metadata": {},
   "outputs": [],
   "source": [
    "q_minimax_cont, risk_minimax_cont = minmax_strategy_cont(D1, D2)"
   ]
  },
  {
   "cell_type": "code",
   "execution_count": null,
   "metadata": {},
   "outputs": [],
   "source": [
    "raise NotImplementedError(\"You have to implement following.\")\n",
    "labels_estimated_cont = None              \n",
    "error_cont = None"
   ]
  },
  {
   "cell_type": "markdown",
   "metadata": {},
   "source": [
    "#### Visualisation"
   ]
  },
  {
   "cell_type": "code",
   "execution_count": null,
   "metadata": {},
   "outputs": [],
   "source": [
    "plt.plot(p_1[0], risk[0], 'b')\n",
    "plt.plot(p_1[0], risk_fix[0], 'k')\n",
    "plt.plot(p_1[0], worst_risk[0] ,'r')\n",
    "\n",
    "# ylim([0 0.2])\n",
    "plt.ylabel('R')\n",
    "plt.xlabel('p_K(x)')\n",
    "plt.legend(['risk of Bayesian strategy', 'risk of fixed strategy', 'worst risk of Bayesian strategy'])\n",
    "plt.title('Bayesian risk for varying prior')\n",
    "plt.grid('on')\n",
    "plt.savefig('plots_cont.png')"
   ]
  },
  {
   "cell_type": "code",
   "execution_count": null,
   "metadata": {},
   "outputs": [],
   "source": [
    "fig = plt.figure()\n",
    "show_classification(images_test_set, labels_estimated_cont, letters)\n",
    "plt.suptitle('Classification results for minimax, continuous measurements')\n",
    "# plt.savefig('minmax_classif_cont_' + letters.lower() + '.png')\n",
    "plt.savefig('minmax_classif_cont.png')\n",
    "print('Error: {:.2f} %'.format(error_cont * 100))"
   ]
  },
  {
   "cell_type": "code",
   "execution_count": null,
   "metadata": {},
   "outputs": [],
   "source": []
  }
 ],
 "metadata": {
  "kernelspec": {
   "display_name": "Python 2",
   "language": "python",
   "name": "python2"
  },
  "language_info": {
   "codemirror_mode": {
    "name": "ipython",
    "version": 2
   },
   "file_extension": ".py",
   "mimetype": "text/x-python",
   "name": "python",
   "nbconvert_exporter": "python",
   "pygments_lexer": "ipython2",
   "version": "2.7.12"
  }
 },
 "nbformat": 4,
 "nbformat_minor": 2
}
