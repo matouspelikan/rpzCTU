{
 "cells": [
  {
   "cell_type": "markdown",
   "metadata": {},
   "source": [
    "# Task 01 - BASICS\n",
    "## Pattern Recognition and Machine Learning"
   ]
  },
  {
   "cell_type": "code",
   "execution_count": null,
   "metadata": {},
   "outputs": [],
   "source": [
    "# uncomment following for interactive matplotlib\n",
    "# %matplotlib notebook\n",
    "from basics import *\n",
    "import scipy.io\n",
    "from PIL import Image\n",
    "\n",
    "def unwrap(data):\n",
    "    try:\n",
    "        while (len(data) == 1) and (data.shape > 0):\n",
    "            data = data[0]\n",
    "    except:\n",
    "        pass\n",
    "    return data"
   ]
  },
  {
   "cell_type": "code",
   "execution_count": null,
   "metadata": {},
   "outputs": [],
   "source": [
    "A = np.array([[16, 2, 3, 13],\n",
    "              [ 5,11,10,  8],\n",
    "              [ 9, 7, 6, 12],\n",
    "              [ 4,14,15,  1]])\n",
    "\n",
    "B = np.array([[ 3, 4, 9, 4, 3, 6, 6, 2, 3, 4],\n",
    "              [ 9, 2,10, 1, 4, 3, 7, 1, 3, 5]])"
   ]
  },
  {
   "cell_type": "code",
   "execution_count": null,
   "metadata": {},
   "outputs": [],
   "source": [
    "output = matrix_manip(A,B)"
   ]
  },
  {
   "cell_type": "code",
   "execution_count": null,
   "metadata": {},
   "outputs": [],
   "source": [
    "for key, value in output.items():\n",
    "    print ('{}:\\n{}'.format(key,value))"
   ]
  },
  {
   "cell_type": "markdown",
   "metadata": {},
   "source": [
    "#### Load data"
   ]
  },
  {
   "cell_type": "code",
   "execution_count": null,
   "metadata": {},
   "outputs": [],
   "source": [
    "mat = scipy.io.loadmat(\"data_33rpz_cv01.mat\")\n",
    "alphabet = np.array(list(mat[\"Alphabet\"][0]))\n",
    "images = unwrap(mat[\"images\"])\n",
    "labels = unwrap(mat[\"labels\"]) - 1"
   ]
  },
  {
   "cell_type": "markdown",
   "metadata": {},
   "source": [
    "#### Compute letters' means and save images"
   ]
  },
  {
   "cell_type": "code",
   "execution_count": null,
   "metadata": {},
   "outputs": [],
   "source": [
    "initialMean1 = compute_letter_mean(\"R\", alphabet, images, labels)\n",
    "Image.fromarray(initialMean1, mode='L').save(\"initial1_mean.png\")\n",
    "\n",
    "initialMean2 = compute_letter_mean(\"A\", alphabet, images, labels)\n",
    "Image.fromarray(initialMean2, mode='L').save(\"initial2_mean.png\")"
   ]
  },
  {
   "cell_type": "markdown",
   "metadata": {},
   "source": [
    "####  Show images"
   ]
  },
  {
   "cell_type": "code",
   "execution_count": null,
   "metadata": {},
   "outputs": [],
   "source": [
    "plt.figure()\n",
    "plt.title(\"R mean\")\n",
    "plt.imshow(initialMean1, cmap='gray')\n",
    "\n",
    "plt.figure()\n",
    "plt.title(\"A mean\")\n",
    "plt.imshow(initialMean2, cmap='gray')"
   ]
  },
  {
   "cell_type": "markdown",
   "metadata": {},
   "source": [
    "#### Compute histograms"
   ]
  },
  {
   "cell_type": "code",
   "execution_count": null,
   "metadata": {},
   "outputs": [],
   "source": [
    "initialHist1 = compute_lr_histogram(\"R\", alphabet, images, labels, 10)\n",
    "initialHist2 = compute_lr_histogram(\"A\", alphabet, images, labels, 10)"
   ]
  },
  {
   "cell_type": "code",
   "execution_count": null,
   "metadata": {},
   "outputs": [],
   "source": [
    "plt.figure()\n",
    "plt.title(\"Letter feature distribution histogram\")\n",
    "plt.xlabel(\"Feature\")\n",
    "plt.ylabel(\"Images\")\n",
    "histPlot1 = histogram_plot(initialHist1, 'b', 0.75)\n",
    "histPlot2 = histogram_plot(initialHist2, 'r', 0.75)\n",
    "plt.legend((histPlot1, histPlot2), (\"letter 'R'\", \"letter 'A'\"))\n",
    "plt.savefig(\"initials_histograms.png\")"
   ]
  },
  {
   "cell_type": "code",
   "execution_count": null,
   "metadata": {},
   "outputs": [],
   "source": []
  }
 ],
 "metadata": {
  "kernelspec": {
   "display_name": "Python 2",
   "language": "python",
   "name": "python2"
  },
  "language_info": {
   "codemirror_mode": {
    "name": "ipython",
    "version": 2
   },
   "file_extension": ".py",
   "mimetype": "text/x-python",
   "name": "python",
   "nbconvert_exporter": "python",
   "pygments_lexer": "ipython2",
   "version": "2.7.12"
  }
 },
 "nbformat": 4,
 "nbformat_minor": 2
}
