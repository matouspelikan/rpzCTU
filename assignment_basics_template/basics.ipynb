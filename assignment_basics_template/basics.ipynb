{
 "cells": [
  {
   "cell_type": "markdown",
   "metadata": {},
   "source": [
    "# Task 01 - BASICS\n",
    "## Pattern Recognition and Machine Learning"
   ]
  },
  {
   "cell_type": "code",
   "execution_count": null,
   "metadata": {},
   "outputs": [],
   "source": [
    "%load_ext autoreload\n",
    "%autoreload 2\n",
    "import numpy as np\n",
    "from PIL import Image\n",
    "import matplotlib.pyplot as plt\n",
    "\n",
    "from basics import *"
   ]
  },
  {
   "cell_type": "code",
   "execution_count": null,
   "metadata": {},
   "outputs": [],
   "source": [
    "A = np.array([[16,  2,  3, 13],\n",
    "              [ 5, 11, 10,  8],\n",
    "              [ 9,  7,  6, 12],\n",
    "              [ 4, 14, 15,  1]])\n",
    "\n",
    "B = np.array([[ 3, 4, 9, 4, 3, 6, 6, 2, 3, 4],\n",
    "              [ 9, 2,10, 1, 4, 3, 7, 1, 3, 5]])"
   ]
  },
  {
   "cell_type": "code",
   "execution_count": null,
   "metadata": {},
   "outputs": [],
   "source": [
    "output = matrix_manip(A,B)"
   ]
  },
  {
   "cell_type": "code",
   "execution_count": null,
   "metadata": {},
   "outputs": [],
   "source": [
    "for key in sorted(output.keys()):\n",
    "    print ('{}:\\n{}\\n'.format(key, output[key]))"
   ]
  },
  {
   "cell_type": "markdown",
   "metadata": {},
   "source": [
    "#### Load data"
   ]
  },
  {
   "cell_type": "code",
   "execution_count": null,
   "metadata": {},
   "outputs": [],
   "source": [
    "loaded_data = np.load(\"data_33rpz_basics.npz\")\n",
    "alphabet = loaded_data[\"alphabet\"]\n",
    "images = loaded_data[\"images\"]\n",
    "labels = loaded_data[\"labels\"]"
   ]
  },
  {
   "cell_type": "code",
   "execution_count": null,
   "metadata": {},
   "outputs": [],
   "source": [
    "np.where(alphabet == 'K')[0]"
   ]
  },
  {
   "cell_type": "markdown",
   "metadata": {},
   "source": [
    "#### Compute letters' means and save images"
   ]
  },
  {
   "cell_type": "code",
   "execution_count": null,
   "metadata": {},
   "outputs": [],
   "source": [
    "initialMean1 = compute_letter_mean(\"R\", alphabet, images, labels)\n",
    "Image.fromarray(initialMean1, mode='L').save(\"initial1_mean.png\")\n",
    "\n",
    "initialMean2 = compute_letter_mean(\"A\", alphabet, images, labels)\n",
    "Image.fromarray(initialMean2, mode='L').save(\"initial2_mean.png\")"
   ]
  },
  {
   "cell_type": "markdown",
   "metadata": {},
   "source": [
    "####  Show images"
   ]
  },
  {
   "cell_type": "code",
   "execution_count": null,
   "metadata": {},
   "outputs": [],
   "source": [
    "plt.figure()\n",
    "plt.title(\"R mean\")\n",
    "plt.imshow(initialMean1, cmap='gray')\n",
    "\n",
    "plt.figure()\n",
    "plt.title(\"A mean\")\n",
    "plt.imshow(initialMean2, cmap='gray')\n",
    "plt.show()"
   ]
  },
  {
   "cell_type": "markdown",
   "metadata": {},
   "source": [
    "#### Compute histograms"
   ]
  },
  {
   "cell_type": "code",
   "execution_count": null,
   "metadata": {},
   "outputs": [],
   "source": [
    "initialHist1 = compute_lr_histogram(\"R\", alphabet, images, labels, 20, return_bin_edges=True)\n",
    "initialHist2 = compute_lr_histogram(\"A\", alphabet, images, labels, 20, return_bin_edges=True)"
   ]
  },
  {
   "cell_type": "code",
   "execution_count": null,
   "metadata": {},
   "outputs": [],
   "source": [
    "initialHist1"
   ]
  },
  {
   "cell_type": "code",
   "execution_count": null,
   "metadata": {},
   "outputs": [],
   "source": [
    "plt.figure()\n",
    "plt.title(\"Letter feature histogram\")\n",
    "plt.xlabel(\"LR feature\")\n",
    "plt.ylabel(\"# Images\")\n",
    "histPlot1 = histogram_plot(initialHist1, color='b', alpha=0.75)\n",
    "histPlot2 = histogram_plot(initialHist2, color='r', alpha=0.75)\n",
    "plt.legend((histPlot1, histPlot2), (\"letter 'R'\", \"letter 'A'\"))\n",
    "plt.savefig(\"initials_histograms.png\")"
   ]
  }
 ],
 "metadata": {
  "kernelspec": {
   "display_name": "Python 3",
   "language": "python",
   "name": "python3"
  },
  "language_info": {
   "codemirror_mode": {
    "name": "ipython",
    "version": 3
   },
   "file_extension": ".py",
   "mimetype": "text/x-python",
   "name": "python",
   "nbconvert_exporter": "python",
   "pygments_lexer": "ipython3",
   "version": "3.7.4"
  },
  "name": "basics.ipynb"
 },
 "nbformat": 4,
 "nbformat_minor": 2
}
