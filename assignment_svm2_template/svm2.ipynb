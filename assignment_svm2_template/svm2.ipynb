{
 "cells": [
  {
   "cell_type": "code",
   "execution_count": null,
   "metadata": {},
   "outputs": [],
   "source": [
    " # uncomment following for interactive matplotlib\n",
    "# %matplotlib notebook\n",
    "\n",
    "from svm2 import *\n",
    "import scipy.io\n",
    "import numpy as np\n",
    "import matplotlib.pyplot as plt"
   ]
  },
  {
   "cell_type": "markdown",
   "metadata": {},
   "source": [
    "# Part 1: Kernel SVM\n",
    "## Test on trivial data"
   ]
  },
  {
   "cell_type": "code",
   "execution_count": null,
   "metadata": {},
   "outputs": [],
   "source": [
    "X = np.array([[1, 2, 1, -1, -1, -2], [1, 1, 2, -1, -2, -1]])\n",
    "y = np.array([[1, 1, 1, -1, -1, -1]])"
   ]
  },
  {
   "cell_type": "markdown",
   "metadata": {},
   "source": [
    "### get_kernel function"
   ]
  },
  {
   "cell_type": "code",
   "execution_count": null,
   "metadata": {},
   "outputs": [],
   "source": [
    "K = get_kernel(X, X, {'kernel': 'linear'})\n",
    "print(K)"
   ]
  },
  {
   "cell_type": "code",
   "execution_count": null,
   "metadata": {},
   "outputs": [],
   "source": [
    "K = get_kernel(X, X, {'kernel': 'polynomial', 'd': 2})\n",
    "print(K)"
   ]
  },
  {
   "cell_type": "code",
   "execution_count": null,
   "metadata": {},
   "outputs": [],
   "source": [
    "K = get_kernel(X, X, {'kernel': 'rbf', 'sigma': 1.0})\n",
    "np.set_printoptions(precision=4, suppress=True)\n",
    "print(K)\n",
    "np.set_printoptions()"
   ]
  },
  {
   "cell_type": "markdown",
   "metadata": {},
   "source": [
    "### my_kernel_svm function"
   ]
  },
  {
   "cell_type": "code",
   "execution_count": null,
   "metadata": {},
   "outputs": [],
   "source": [
    "y = np.array([[-1, 1, 1, 1, -1, -1]])\n",
    "C = float('inf');\n",
    "options = {'verb': True, 'tmax': float('inf'),\n",
    "           'kernel': 'rbf', 'sigma': 0.01}"
   ]
  },
  {
   "cell_type": "code",
   "execution_count": null,
   "metadata": {},
   "outputs": [],
   "source": [
    "model = my_kernel_svm(X, y, C, options)\n",
    "print(model)"
   ]
  },
  {
   "cell_type": "code",
   "execution_count": null,
   "metadata": {},
   "outputs": [],
   "source": [
    "classif = classif_kernel_svm(X, model)\n",
    "print(classif)"
   ]
  },
  {
   "cell_type": "code",
   "execution_count": null,
   "metadata": {},
   "outputs": [],
   "source": [
    "plot_pts(X, y)\n",
    "plt.axis('equal')\n",
    "plt.grid(linestyle='--')\n",
    "plt.xlim(-3, 3)\n",
    "plt.ylim(-3, 3)\n",
    "plot_boundary(plt.gca(), model)\n"
   ]
  },
  {
   "cell_type": "markdown",
   "metadata": {},
   "source": [
    "## Test on flower"
   ]
  },
  {
   "cell_type": "code",
   "execution_count": null,
   "metadata": {},
   "outputs": [],
   "source": [
    " def unwrap(data):\n",
    "    \"\"\"\n",
    "    Simple \"hack\" for preparing data from *.mat files\n",
    "    \"\"\"\n",
    "    try:\n",
    "        while (len(data) == 1) and (len(data.shape) > 0):\n",
    "            data = data[0]\n",
    "        for key in list(data.dtype.names):\n",
    "            data[key] = unwrap(data[key])\n",
    "    except:\n",
    "        pass\n",
    "    return data\n",
    "\n",
    "def ndarray2dict(data, indexes=None):\n",
    "    outputs = {}\n",
    "    for key in list(data.dtype.names):\n",
    "        value = unwrap(data[key])\n",
    "        try:\n",
    "            if len(value.shape) > 0:\n",
    "                value = np.atleast_2d(value)\n",
    "        except:\n",
    "            pass\n",
    "        outputs[key] = value\n",
    "    if indexes is not None:\n",
    "        for key in indexes:\n",
    "            outputs[key] -= 1\n",
    "    return outputs\n",
    "    \n",
    "data = scipy.io.loadmat(\"flower.mat\")\n",
    "X = np.atleast_2d(unwrap(data[\"X\"]))\n",
    "y = np.atleast_2d(unwrap(data[\"y\"])).astype(np.int32)\n",
    "y[y==2] = -1"
   ]
  },
  {
   "cell_type": "markdown",
   "metadata": {},
   "source": [
    "### RBF"
   ]
  },
  {
   "cell_type": "code",
   "execution_count": null,
   "metadata": {},
   "outputs": [],
   "source": [
    "C = 10\n",
    "sigma = 0.1\n",
    "options = {'verb': False, 'tmax': float('inf'),\n",
    "           'kernel': 'rbf', 'sigma': sigma}\n",
    " \n",
    "model = my_kernel_svm(X, y, C, options)\n",
    "plot_pts(X, y)\n",
    "plt.axis('equal')\n",
    "plt.grid(linestyle='--')\n",
    "plt.title('RBF kernel $\\sigma$={}'.format(sigma))\n",
    "plot_boundary(plt.gca(), model)\n",
    "plt.savefig('flower_rbf.png')"
   ]
  },
  {
   "cell_type": "markdown",
   "metadata": {},
   "source": [
    "### Polynomial"
   ]
  },
  {
   "cell_type": "code",
   "execution_count": null,
   "metadata": {},
   "outputs": [],
   "source": [
    "C = 10000\n",
    "d = 4\n",
    "options = {'verb': False, 'tmax': float('inf'),\n",
    "           'kernel': 'polynomial', 'd': d}\n",
    " \n",
    "model = my_kernel_svm(X, y, C, options)\n",
    "plot_pts(X, y)\n",
    "plt.axis('equal')\n",
    "plt.grid(linestyle='--')\n",
    "plt.title('Polynomial kernel $d$={}'.format(d))\n",
    "plot_boundary(plt.gca(), model)\n",
    "plt.savefig('flower_polynomial.png')"
   ]
  },
  {
   "cell_type": "markdown",
   "metadata": {},
   "source": [
    "# Part 2: Model selection"
   ]
  },
  {
   "cell_type": "code",
   "execution_count": null,
   "metadata": {},
   "outputs": [],
   "source": [
    "data = scipy.io.loadmat(\"ocr_data_2D_trn.mat\")\n",
    "X_trn = data['X']\n",
    "y_trn = data['y']"
   ]
  },
  {
   "cell_type": "code",
   "execution_count": null,
   "metadata": {},
   "outputs": [],
   "source": [
    "np.random.seed(42)\n",
    "trn_folds, tst_folds = crossval(y_trn.size, num_folds=4)\n",
    "Cs = [0.0001 ,0.001, 0.01, 0.1]\n",
    "ds = [5, 10, 15]\n",
    "\n",
    "best_params = None\n",
    "best_err = np.inf\n",
    "for C in Cs:\n",
    "    for d in ds:\n",
    "        options = {'verb': False, 'tmax': float('inf'),\n",
    "                  'kernel': 'polynomial', 'd': d}\n",
    "        err = compute_kernel_test_error(trn_folds, tst_folds, X_trn, y_trn, C, options)\n",
    "\n",
    "        if err < best_err:\n",
    "            best_err = err\n",
    "            best_params = (C, d)\n",
    "        print('C {}, d {} -> err {}'.format(C, d, err))\n",
    "\n",
    "print('best params: C={}, d={}'.format(best_params[0], best_params[1]))"
   ]
  },
  {
   "cell_type": "code",
   "execution_count": null,
   "metadata": {},
   "outputs": [],
   "source": [
    "C = best_params[0]\n",
    "d = best_params[1]\n",
    "\n",
    "options = {'verb': False, 'tmax': float('inf'),\n",
    "           'kernel': 'polynomial', 'd': d}\n",
    "model = my_kernel_svm(X_trn, y_trn, C, options)\n",
    "plot_pts(X_trn, y_trn)\n",
    "plt.axis('equal')\n",
    "plt.grid(linestyle='--')\n",
    "plt.title('Polynomial kernel $d$={} TRN data'.format(d))\n",
    "plot_boundary(plt.gca(), model)"
   ]
  },
  {
   "cell_type": "code",
   "execution_count": null,
   "metadata": {},
   "outputs": [],
   "source": [
    "data = scipy.io.loadmat(\"ocr_data_2D_tst.mat\")\n",
    "X_tst = data['X']\n",
    "y_tst = data['y']\n",
    "images_tst = unwrap(data['tst'])[0]"
   ]
  },
  {
   "cell_type": "code",
   "execution_count": null,
   "metadata": {},
   "outputs": [],
   "source": [
    "test_err = \"Probably around 42?\"\n",
    "print(test_err)"
   ]
  },
  {
   "cell_type": "code",
   "execution_count": null,
   "metadata": {},
   "outputs": [],
   "source": [
    "plot_pts(X_tst, y_tst)\n",
    "plt.axis('equal')\n",
    "plt.grid(linestyle='--')\n",
    "plt.title('Polynomial kernel $d$={} TST data'.format(d))\n",
    "plot_boundary(plt.gca(), model)\n",
    "plt.savefig('ocr_polynomial_kernel_tst.png')"
   ]
  },
  {
   "cell_type": "code",
   "execution_count": null,
   "metadata": {},
   "outputs": [],
   "source": [
    "labels = classif.copy()\n",
    "labels[labels == 1] = 0\n",
    "labels[labels == -1] = 1\n",
    "\n",
    "plt.figure()\n",
    "show_classification(images_tst, labels, 'AC')\n",
    "plt.savefig('ocr_svm_classif.png')"
   ]
  },
  {
   "cell_type": "markdown",
   "metadata": {},
   "source": [
    "# Part 3: Real world example - digit classification"
   ]
  },
  {
   "cell_type": "code",
   "execution_count": null,
   "metadata": {},
   "outputs": [],
   "source": [
    "data = scipy.io.loadmat(\"mnist_01_trn.mat\")\n",
    "X_trn = data['X']\n",
    "y_trn = data['y']"
   ]
  },
  {
   "cell_type": "code",
   "execution_count": null,
   "metadata": {},
   "outputs": [],
   "source": [
    "np.random.seed(42)\n",
    "trn_folds, tst_folds = crossval(y_trn.size, num_folds=5)\n",
    "Cs = [0.01, 0.1, 1, 10]\n",
    "sigmas = [0.5, 0.9, 1.5]\n",
    "\n",
    "best_params = None\n",
    "best_err = np.inf\n",
    "for C in Cs:\n",
    "    for sigma in sigmas:\n",
    "        options = {'verb': False, 'tmax': float('inf'),\n",
    "                   'kernel': 'rbf', 'sigma': sigma}\n",
    "        err = compute_kernel_test_error(trn_folds, tst_folds, X_trn, y_trn, C, options)\n",
    "\n",
    "        if err < best_err:\n",
    "            best_err = err\n",
    "            best_params = (C, sigma)\n",
    "        print('C {}, sigma {} -> err {}'.format(C, sigma, err))\n",
    "\n",
    "print('best params: C={}, sigma={}'.format(best_params[0], best_params[1]))"
   ]
  },
  {
   "cell_type": "code",
   "execution_count": null,
   "metadata": {},
   "outputs": [],
   "source": [
    "C = best_params[0]\n",
    "sigma = best_params[1]\n",
    "\n",
    "options = {'verb': False, 'tmax': float('inf'),\n",
    "           'kernel': 'rbf', 'sigma': sigma}\n",
    "model = my_kernel_svm(X_trn, y_trn, C, options)"
   ]
  },
  {
   "cell_type": "code",
   "execution_count": null,
   "metadata": {},
   "outputs": [],
   "source": [
    "data = scipy.io.loadmat(\"mnist_01_tst.mat\")\n",
    "X_tst = data['X']\n",
    "y_tst = data['y']"
   ]
  },
  {
   "cell_type": "code",
   "execution_count": null,
   "metadata": {},
   "outputs": [],
   "source": [
    "classif = ?\n",
    "err = ?\n",
    "print(np.round(err, 8))"
   ]
  },
  {
   "cell_type": "code",
   "execution_count": null,
   "metadata": {},
   "outputs": [],
   "source": [
    "print(classif.shape)\n",
    "show_mnist_classification(X_tst, classif)\n",
    "plt.savefig('mnist_tst_classif.png')"
   ]
  }
 ],
 "metadata": {
  "kernelspec": {
   "display_name": "Python 2",
   "language": "python",
   "name": "python2"
  },
  "language_info": {
   "codemirror_mode": {
    "name": "ipython",
    "version": 2
   },
   "file_extension": ".py",
   "mimetype": "text/x-python",
   "name": "python",
   "nbconvert_exporter": "python",
   "pygments_lexer": "ipython2",
   "version": "2.7.12"
  }
 },
 "nbformat": 4,
 "nbformat_minor": 2
}
