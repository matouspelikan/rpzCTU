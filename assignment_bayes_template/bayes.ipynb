{
 "cells": [
  {
   "cell_type": "markdown",
   "metadata": {},
   "source": [
    "# Task 02 - BAYES\n",
    "## Pattern Recognition and Machine Learning"
   ]
  },
  {
   "cell_type": "code",
   "execution_count": null,
   "metadata": {},
   "outputs": [],
   "source": [
    "%load_ext autoreload\n",
    "%autoreload 2\n",
    "\n",
    "from bayes import *\n",
    "import scipy.io\n",
    "import numpy as np\n",
    "import matplotlib.pyplot as plt\n",
    "import matplotlib.patches as patches\n",
    "from PIL import Image\n"
   ]
  },
  {
   "cell_type": "markdown",
   "metadata": {},
   "source": [
    "#### Load data from *.npz files"
   ]
  },
  {
   "cell_type": "code",
   "execution_count": null,
   "metadata": {},
   "outputs": [],
   "source": [
    "data = np.load(\"data_33rpz_bayes.npz\", allow_pickle=True)\n",
    "alphabet = data[\"alphabet\"]\n",
    "images_test = data[\"images_test\"]\n",
    "labels_test = data[\"labels_test\"]\n",
    "contA = {'Mean': 124.2625,\n",
    "         'Sigma': 1434.45420083,\n",
    "         'Prior': 0.61538462}\n",
    "contC = {'Mean': -2010.98,\n",
    "         'Sigma': 558.42857106,\n",
    "         'Prior': 0.38461538}\n",
    "discreteA = {'Prior': 0.6153846153846154,\n",
    "             'Prob': np.array([0.0125, 0., 0., 0.0125, 0.025, 0.0125, 0.025, 0.0375, 0.075, 0.1, 0.2125, 0.1375, 0.15, 0.1, 0.0875, 0.0125, 0., 0., 0., 0., 0.])}\n",
    "discreteC = {'Prior': 0.38461538461538464,\n",
    "             'Prob': np.array([0., 0., 0., 0.02, 0.02, 0.22, 0.46, 0.16, 0.1, 0.02, 0., 0., 0., 0., 0., 0., 0., 0., 0., 0., 0.])}"
   ]
  },
  {
   "cell_type": "markdown",
   "metadata": {},
   "source": [
    "## Discrete"
   ]
  },
  {
   "cell_type": "code",
   "execution_count": null,
   "metadata": {},
   "outputs": [],
   "source": [
    "W1 = np.array([[0, 1],\n",
    "              [1, 0]])\n",
    "W2 = np.array([[0, 5], \n",
    "               [1, 0]])"
   ]
  },
  {
   "cell_type": "code",
   "execution_count": null,
   "metadata": {},
   "outputs": [],
   "source": [
    "q_discrete1 = find_strategy_discrete(discreteA, discreteC, W1)\n",
    "\n",
    "visualize_discrete(discreteA, discreteC, q_discrete1)\n",
    "plt.savefig(\"classif_W1.png\") "
   ]
  },
  {
   "cell_type": "code",
   "execution_count": null,
   "metadata": {},
   "outputs": [],
   "source": [
    "q_discrete2 = find_strategy_discrete(discreteA, discreteC, W2)\n",
    "\n",
    "visualize_discrete(discreteA, discreteC, q_discrete2)\n",
    "plt.savefig(\"classif_W2.png\")"
   ]
  },
  {
   "cell_type": "code",
   "execution_count": null,
   "metadata": {},
   "outputs": [],
   "source": [
    "# uncomment following for interactive matplotlib\n",
    "%matplotlib notebook\n",
    "try:\n",
    "    from ipywidgets import interact, interactive, fixed\n",
    "    \n",
    "    @interact(priorA=(0.,1.,0.01), w01=(0.1,10,0.01), w10=(0.1,10,0.01))\n",
    "    def plot_bayes_cont_interactive(priorA=discreteA['Prior'], w01=W1[0,1], w10=W1[1,0]):\n",
    "        W = np.array([[0, w01], [w10, 0]])\n",
    "        discreteA_inter = {'Prob': discreteA['Prob'], 'Prior': priorA}\n",
    "        discreteB_inter = {'Prob': discreteC['Prob'], 'Prior': 1 - priorA}\n",
    "        q_discrete_inter = find_strategy_discrete(discreteA_inter, discreteB_inter, W)\n",
    "        visualize_discrete(discreteA_inter, discreteB_inter, q_discrete_inter)\n",
    "\n",
    "except ImportError:\n",
    "    print('Optional feature.')"
   ]
  },
  {
   "cell_type": "code",
   "execution_count": null,
   "metadata": {},
   "outputs": [],
   "source": [
    "R_discrete = bayes_risk_discrete(discreteA, discreteC, W1, q_discrete1)\n",
    "\n",
    "\n",
    "measurements_discrete = compute_measurement_lr_discrete(images_test)\n",
    "\n",
    "labels_estimated_discrete = classify_discrete(measurements_discrete, q_discrete1)\n",
    "\n",
    "error_discrete = classification_error(labels_estimated_discrete, labels_test)\n",
    "print('Discrete classification error: {}'.format(error_discrete))"
   ]
  },
  {
   "cell_type": "markdown",
   "metadata": {},
   "source": [
    "#### Visualisation"
   ]
  },
  {
   "cell_type": "code",
   "execution_count": null,
   "metadata": {},
   "outputs": [],
   "source": [
    "I_A = images_test[:,:,labels_estimated_discrete == 0]\n",
    "I_C = images_test[:,:,labels_estimated_discrete == 1]\n",
    "\n",
    "plt.figure()\n",
    "plt.subplot(1, 2, 1)\n",
    "plt.imshow(montage(I_A), cmap='gray')\n",
    "plt.title('Images classified as A')\n",
    "plt.subplot(1, 2, 2)\n",
    "plt.imshow(montage(I_C), cmap='gray')\n",
    "plt.title('Images classified as C')\n",
    "plt.savefig(\"decision_discrete.png\")"
   ]
  },
  {
   "cell_type": "markdown",
   "metadata": {},
   "source": [
    "## Continuos"
   ]
  },
  {
   "cell_type": "code",
   "execution_count": null,
   "metadata": {},
   "outputs": [],
   "source": [
    "# we are searching for bayesian strategy for 2 normal distributions and\n",
    "# zero-one cost function\n",
    "W = np.array([[0, 1],\n",
    "              [1, 0]])\n",
    "\n",
    "# result not used, inspect the values e.g. with hist function\n",
    "measurements_cont = compute_measurement_lr_cont(images_test)\n",
    "\n",
    "q_cont = find_strategy_2normal(contA, contC)\n",
    "print(q_cont)\n",
    "plt.figure()\n",
    "visualize_2norm(contA, contC, q_cont)\n",
    "plt.savefig(\"thresholds.png\")\n",
    "\n",
    "R_cont = bayes_risk_2normal(contA, contC, q_cont)\n",
    "print('Bayes risk: {}'.format(R_cont))\n",
    "\n",
    "labels_estimated_cont = classify_2normal(measurements_cont, q_cont)\n",
    "\n",
    "error_cont = classification_error(labels_estimated_cont, labels_test)\n",
    "\n",
    "print('Continuous classification error: {}'.format(error_cont))"
   ]
  },
  {
   "cell_type": "code",
   "execution_count": null,
   "metadata": {},
   "outputs": [],
   "source": [
    "try:\n",
    "    from ipywidgets import interact, interactive, fixed\n",
    "    \n",
    "    @interact(meanA=(-2500.,2500.,10.), sigmaA=(0.,2000.,10.), priorA=(0.,1.,0.01), meanB=(-2500.,2500.,10.), sigmaB=(0.,2000.,10.))\n",
    "    def plot_bayes_cont_interactive(meanA=contA['Mean'], sigmaA=contA['Sigma'], priorA=contA['Prior'], meanB=contC['Mean'], sigmaB=contC['Sigma']):\n",
    "        plt.figure()\n",
    "        cont_A_inter = {'Mean': meanA, 'Sigma': sigmaA, 'Prior': priorA}\n",
    "        cont_B_inter = {'Mean': meanB, 'Sigma': sigmaB, 'Prior': 1 - cont_A_inter['Prior']}\n",
    "        q_cont_inter = find_strategy_2normal(cont_A_inter, cont_B_inter)\n",
    "        visualize_2norm(cont_A_inter, cont_B_inter, q_cont_inter)\n",
    "\n",
    "except ImportError:\n",
    "    print('Optional feature.')"
   ]
  },
  {
   "cell_type": "markdown",
   "metadata": {},
   "source": [
    "#### Visualisation"
   ]
  },
  {
   "cell_type": "code",
   "execution_count": null,
   "metadata": {},
   "outputs": [],
   "source": [
    "I_A_cont = images_test[:,:,labels_estimated_cont == 0]\n",
    "I_C_cont = images_test[:,:,labels_estimated_cont == 1]\n",
    "\n",
    "plt.figure()\n",
    "plt.subplot(1, 2, 1)\n",
    "plt.imshow(montage(I_A_cont), cmap='gray')\n",
    "plt.title('Images classified as A')\n",
    "\n",
    "plt.subplot(1, 2, 2)\n",
    "plt.imshow(montage(I_C_cont), cmap='gray')\n",
    "plt.title('Images classified as C')\n",
    "\n",
    "plt.savefig(\"decision_2normal.png\")"
   ]
  },
  {
   "cell_type": "code",
   "execution_count": null,
   "metadata": {},
   "outputs": [],
   "source": []
  }
 ],
 "metadata": {
  "kernelspec": {
   "display_name": "Python 3 (ipykernel)",
   "language": "python",
   "name": "python3"
  },
  "language_info": {
   "codemirror_mode": {
    "name": "ipython",
    "version": 3
   },
   "file_extension": ".py",
   "mimetype": "text/x-python",
   "name": "python",
   "nbconvert_exporter": "python",
   "pygments_lexer": "ipython3",
   "version": "3.9.6"
  }
 },
 "nbformat": 4,
 "nbformat_minor": 4
}
