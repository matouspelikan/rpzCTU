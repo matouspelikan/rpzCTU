{
 "cells": [
  {
   "cell_type": "markdown",
   "metadata": {},
   "source": [
    "# Task 02 - BAYES\n",
    "## Pattern Recognition and Machine Learning"
   ]
  },
  {
   "cell_type": "code",
   "execution_count": null,
   "metadata": {},
   "outputs": [],
   "source": [
    "%load_ext autoreload\n",
    "%autoreload 2\n",
    "# uncomment following for interactive matplotlib\n",
    "# %matplotlib notebook\n",
    "from bayes import *\n",
    "import scipy.io\n",
    "import numpy as np\n",
    "import matplotlib.pyplot as plt\n",
    "import matplotlib.patches as patches\n",
    "from PIL import Image\n"
   ]
  },
  {
   "cell_type": "markdown",
   "metadata": {},
   "source": [
    "#### Load data from *.npz files"
   ]
  },
  {
   "cell_type": "code",
   "execution_count": null,
   "metadata": {},
   "outputs": [],
   "source": [
    "data = np.load(\"data_33rpz_bayes.npz\", allow_pickle=True)\n",
    "Alphabet = data[\"alphabet\"]\n",
    "images_test = data[\"images_test\"]\n",
    "labels_test = data[\"labels_test\"]\n",
    "contA = {'Mean': 124.2625,\n",
    "         'Sigma': 1434.45420083,\n",
    "         'Prior': 0.61538462}\n",
    "contC = {'Mean': -2010.98,\n",
    "         'Sigma': 558.42857106,\n",
    "         'Prior': 0.38461538}\n",
    "discreteA = {'Prior': 0.6153846153846154,\n",
    "             'Prob': np.array([0.0125, 0., 0., 0.0125, 0.025, 0.0125, 0.025, 0.0375, 0.075, 0.1, 0.2125, 0.1375, 0.15, 0.1, 0.0875, 0.0125, 0., 0., 0., 0., 0.])}\n",
    "discreteC = {'Prior': 0.38461538461538464,\n",
    "             'Prob': np.array([0., 0., 0., 0.02, 0.02, 0.22, 0.46, 0.16, 0.1, 0.02, 0., 0., 0., 0., 0., 0., 0., 0., 0., 0., 0.])}"
   ]
  },
  {
   "cell_type": "markdown",
   "metadata": {},
   "source": [
    "## Discrete"
   ]
  },
  {
   "cell_type": "code",
   "execution_count": null,
   "metadata": {},
   "outputs": [],
   "source": [
    "W1 = np.array([[0, 1],\n",
    "              [1, 0]])\n",
    "W2 = np.array([[0, 5], \n",
    "               [1, 0]])"
   ]
  },
  {
   "cell_type": "code",
   "execution_count": null,
   "metadata": {},
   "outputs": [],
   "source": [
    "q_discrete1 = find_strategy_discrete(discreteA, discreteC, W1)\n",
    "\n",
    "visualize_discrete(discreteA, discreteC, q_discrete1)\n",
    "plt.savefig(\"classif_W1.png\") "
   ]
  },
  {
   "cell_type": "code",
   "execution_count": null,
   "metadata": {},
   "outputs": [],
   "source": [
    "q_discrete2 = find_strategy_discrete(discreteA, discreteC, W2)\n",
    "\n",
    "visualize_discrete(discreteA, discreteC, q_discrete2)\n",
    "plt.savefig(\"classif_W2.png\")"
   ]
  },
  {
   "cell_type": "code",
   "execution_count": null,
   "metadata": {},
   "outputs": [],
   "source": [
    "R_discrete = bayes_risk_discrete(discreteA, discreteC, W1, q_discrete1)\n",
    "\n",
    "# result not used, inspect the values e.g. with hist function\n",
    "measurements_discrete = compute_measurement_lr_discrete(images_test)\n",
    "\n",
    "# result not used, inspect the values \n",
    "labels_estimated_discrete = classify_discrete(images_test, q_discrete1)\n",
    "\n",
    "error_discrete = classification_error_discrete(images_test, labels_test, q_discrete1)\n",
    "print('Discrete classification error: {}'.format(error_discrete))"
   ]
  },
  {
   "cell_type": "markdown",
   "metadata": {},
   "source": [
    "#### Visualisation"
   ]
  },
  {
   "cell_type": "code",
   "execution_count": null,
   "metadata": {},
   "outputs": [],
   "source": [
    "I_A = images_test[:,:,labels_estimated_discrete == 0]\n",
    "I_C = images_test[:,:,labels_estimated_discrete == 1]\n",
    "\n",
    "plt.figure()\n",
    "plt.subplot(1, 2, 1)\n",
    "plt.imshow(montage(I_A), cmap='gray')\n",
    "plt.title('Images classified as A')\n",
    "plt.subplot(1, 2, 2)\n",
    "plt.imshow(montage(I_C), cmap='gray')\n",
    "plt.title('Images classified as C')\n",
    "plt.savefig(\"decision_discrete.png\")"
   ]
  },
  {
   "cell_type": "markdown",
   "metadata": {},
   "source": [
    "## Continuos"
   ]
  },
  {
   "cell_type": "code",
   "execution_count": null,
   "metadata": {},
   "outputs": [],
   "source": [
    "# we are searching for bayesian strategy for 2 normal distributions and\n",
    "# zero-one cost function\n",
    "W = np.array([[0, 1],\n",
    "              [1, 0]])\n",
    "\n",
    "# result not used, inspect the values e.g. with hist function\n",
    "measurements_cont = compute_measurement_lr_cont(images_test)\n",
    "\n",
    "q_cont = find_strategy_2normal(contA, contC)\n",
    "visualize_2norm(contA, contC, q_cont)\n",
    "plt.savefig(\"thresholds.png\")\n",
    "\n",
    "R_cont = bayes_risk_2normal(contA, contC, q_cont)\n",
    "\n",
    "labels_estimated_cont = classify_2normal(images_test, q_cont)\n",
    "\n",
    "error_cont = classification_error_2normal(images_test, labels_test, q_cont)\n",
    "\n",
    "print('Continuous classification error: {}'.format(error_cont))"
   ]
  },
  {
   "cell_type": "markdown",
   "metadata": {},
   "source": [
    "#### Visualisation"
   ]
  },
  {
   "cell_type": "code",
   "execution_count": null,
   "metadata": {},
   "outputs": [],
   "source": [
    "I_A_cont = images_test[:,:,labels_estimated_cont == 0]\n",
    "I_C_cont = images_test[:,:,labels_estimated_cont == 1]\n",
    "\n",
    "plt.figure()\n",
    "plt.subplot(1, 2, 1)\n",
    "plt.imshow(montage(I_A_cont), cmap='gray')\n",
    "plt.title('Images classified as A')\n",
    "\n",
    "plt.subplot(1, 2, 2)\n",
    "plt.imshow(montage(I_C_cont), cmap='gray')\n",
    "plt.title('Images classified as C')\n",
    "\n",
    "plt.savefig(\"decision_2normal.png\")"
   ]
  }
 ],
 "metadata": {
  "kernelspec": {
   "display_name": "Python 3",
   "language": "python",
   "name": "python3"
  },
  "language_info": {
   "codemirror_mode": {
    "name": "ipython",
    "version": 3
   },
   "file_extension": ".py",
   "mimetype": "text/x-python",
   "name": "python",
   "nbconvert_exporter": "python",
   "pygments_lexer": "ipython3",
   "version": "3.5.2"
  }
 },
 "nbformat": 4,
 "nbformat_minor": 2
}
