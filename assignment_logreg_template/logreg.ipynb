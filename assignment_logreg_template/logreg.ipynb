{
 "cells": [
  {
   "cell_type": "markdown",
   "metadata": {},
   "source": [
    "# Task 06 - Logistic regression\n",
    "## Pattern Recognition and Machine Learning"
   ]
  },
  {
   "cell_type": "markdown",
   "metadata": {},
   "source": [
    "Copy and import needed files/methods from previous assignment to this directory. \n",
    "Adding path to the previous assignment is not sufficient. Upload system\n",
    "requires your code to be self contained."
   ]
  },
  {
   "cell_type": "code",
   "execution_count": null,
   "metadata": {},
   "outputs": [],
   "source": [
    "# uncomment following for interactive matplotlib\n",
    "# %matplotlib notebook\n",
    "\n",
    "from logreg import *\n",
    "import scipy.io\n",
    "import numpy as np\n",
    "import matplotlib.pyplot as plt\n",
    "from mpl_toolkits.mplot3d import Axes3D\n",
    "from PIL import Image"
   ]
  },
  {
   "cell_type": "markdown",
   "metadata": {},
   "source": [
    "#### init"
   ]
  },
  {
   "cell_type": "code",
   "execution_count": null,
   "metadata": {},
   "outputs": [],
   "source": [
    "def unwrap(data):\n",
    "    \"\"\"\n",
    "    Simple \"hack\" for preparing data from *.mat files\n",
    "    \"\"\"\n",
    "    try:\n",
    "        while (len(data) == 1) and (len(data.shape) > 0):\n",
    "            data = data[0]\n",
    "        for key in list(data.dtype.names):\n",
    "            data[key] = unwrap(data[key])\n",
    "    except:\n",
    "        pass\n",
    "    return data\n",
    "\n",
    "def ndarray2dict(data, indexes=None):\n",
    "    outputs = {}\n",
    "    for key in list(data.dtype.names):\n",
    "        value = unwrap(data[key])\n",
    "        try:\n",
    "            if len(value.shape) > 0:\n",
    "                value = np.atleast_2d(value)\n",
    "        except:\n",
    "            pass\n",
    "        outputs[key] = value\n",
    "    if indexes is not None:\n",
    "        for key in indexes:\n",
    "            outputs[key] -= 1\n",
    "    return outputs\n",
    "    \n",
    "data = scipy.io.loadmat(\"data_33rpz_logreg.mat\")\n",
    "# tst = ndarray2dict(unwrap(data[\"tst\"]), ['labels'])\n",
    "# trn = ndarray2dict(unwrap(data[\"trn\"]), ['labels'])\n",
    "tst = ndarray2dict(unwrap(data[\"tst\"])) # already normalised\n",
    "trn = ndarray2dict(unwrap(data[\"trn\"])) # already normalised"
   ]
  },
  {
   "cell_type": "markdown",
   "metadata": {},
   "source": [
    "## Classification of letters A and C\n",
    "#### compute features"
   ]
  },
  {
   "cell_type": "code",
   "execution_count": null,
   "metadata": {},
   "outputs": [],
   "source": [
    "# prepare training data\n",
    "raise NotImplementedError(\"You have to implement the rest.\")\n",
    "trainX = ..."
   ]
  },
  {
   "cell_type": "markdown",
   "metadata": {},
   "source": [
    "#### Training - gradient descent of the logistic loss function"
   ]
  },
  {
   "cell_type": "code",
   "execution_count": null,
   "metadata": {},
   "outputs": [],
   "source": [
    "# Start at a fixed point:\n",
    "w_init = np.array([[-7, -8]], dtype=np.float64).T\n",
    "# or start at a random point:\n",
    "# w_init = 20 * (np.random.rand(trainX.shape[0], 1) - 0.5)\n",
    "epsilon = 1e-2\n",
    "[w, wt, Et] = logistic_loss_gradient_descent(trainX, trn['labels'], w_init, epsilon)"
   ]
  },
  {
   "cell_type": "markdown",
   "metadata": {},
   "source": [
    "#### Plot the progress of the gradient descent"
   ]
  },
  {
   "cell_type": "code",
   "execution_count": null,
   "metadata": {},
   "outputs": [],
   "source": [
    "raise NotImplementedError(\"You have to implement the rest.\")\n",
    "plt.savefig('E_progress_AC.png')"
   ]
  },
  {
   "cell_type": "code",
   "execution_count": null,
   "metadata": {
    "scrolled": false
   },
   "outputs": [],
   "source": [
    "# you can change this:\n",
    "plot_gradient_descent(trainX, trn['labels'], logistic_loss, w, wt, Et)\n",
    "plt.savefig('w_progress_2d_AC.png')"
   ]
  },
  {
   "cell_type": "code",
   "execution_count": null,
   "metadata": {
    "scrolled": false
   },
   "outputs": [],
   "source": [
    "# Load test letter data\n",
    "raise NotImplementedError(\"You have to implement the rest.\")\n",
    "testX = ...\n",
    "\n",
    "# Classify letter test data and calculate classification error\n",
    "classifiedLabels = classify_images(testX, w)\n",
    "errors = ...\n",
    "testError = np.sum(errors, dtype=np.float64) / errors.size\n",
    "print('Letter classification error: {:.2f}%'.format(testError * 100))"
   ]
  },
  {
   "cell_type": "markdown",
   "metadata": {},
   "source": [
    "#### Visualize classification results"
   ]
  },
  {
   "cell_type": "code",
   "execution_count": null,
   "metadata": {},
   "outputs": [],
   "source": [
    "show_classification(tst['images'], classifiedLabels, 'AC')\n",
    "plt.savefig('classif_AC.png')\n",
    "\n",
    "# show the aposteriori probabilities\n",
    "plot_aposteriori(trainX[1:2, :], trn['labels'], w)\n",
    "plt.savefig('aposteriori.png')"
   ]
  },
  {
   "cell_type": "markdown",
   "metadata": {},
   "source": [
    "## Classification of MNIST digits\n",
    "#### init"
   ]
  },
  {
   "cell_type": "code",
   "execution_count": null,
   "metadata": {},
   "outputs": [],
   "source": [
    "# Load training data\n",
    "data = scipy.io.loadmat(\"mnist_01_trn.mat\")\n",
    "X = np.atleast_2d(unwrap(data[\"X\"]))\n",
    "y = np.atleast_2d(unwrap(data[\"y\"])) # already normalised\n",
    "imsize = unwrap(data[\"imsize\"])"
   ]
  },
  {
   "cell_type": "code",
   "execution_count": null,
   "metadata": {},
   "outputs": [],
   "source": [
    "np.random.seed(1)\n",
    "\n",
    "raise NotImplementedError(\"You have to implement the rest.\")\n",
    "X = ...\n",
    "# Training - gradient descent of the logistic loss function\n",
    "w_init = np.random.rand(X.shape[0], 1)\n",
    "epsilon = 1e-2"
   ]
  },
  {
   "cell_type": "code",
   "execution_count": null,
   "metadata": {},
   "outputs": [],
   "source": [
    "w, _, Et = logistic_loss_gradient_descent(X, y, w_init, epsilon)"
   ]
  },
  {
   "cell_type": "markdown",
   "metadata": {},
   "source": [
    "#### visualise"
   ]
  },
  {
   "cell_type": "code",
   "execution_count": null,
   "metadata": {},
   "outputs": [],
   "source": [
    "# Plot the progress of the gradient descent\n",
    "raise NotImplementedError(\"You have to implement the rest.\")\n",
    "plt.savefig('E_progress_MNIST.png')"
   ]
  },
  {
   "cell_type": "markdown",
   "metadata": {},
   "source": [
    "## Classify MNIST test data and calculate classification error\n",
    "#### init"
   ]
  },
  {
   "cell_type": "code",
   "execution_count": null,
   "metadata": {},
   "outputs": [],
   "source": [
    "# Load test data\n",
    "data = scipy.io.loadmat('mnist_01_tst')\n",
    "X = np.atleast_2d(unwrap(data[\"X\"]))\n",
    "y = np.atleast_2d(unwrap(data[\"y\"])) # already normalised\n",
    "imsize = np.atleast_2d(unwrap(data[\"imsize\"]))"
   ]
  },
  {
   "cell_type": "code",
   "execution_count": null,
   "metadata": {},
   "outputs": [],
   "source": [
    "raise NotImplementedError(\"You have to implement the rest.\")\n",
    "X = ...\n",
    "\n",
    "# Classify MNIST test data and calculate classification error\n",
    "classifiedLabels = classify_images(X, w)\n",
    "errors = ...\n",
    "testError = np.sum(errors, dtype=np.float64) / errors.size\n",
    "print('MNIST digit classification error: {:.2f}%'.format(testError * 100))\n",
    "\n",
    "# Visualize classification results\n",
    "show_mnist_classification(X[1:, :], classifiedLabels, imsize)\n",
    "plt.savefig('classif_MNIST.png')"
   ]
  },
  {
   "cell_type": "code",
   "execution_count": null,
   "metadata": {},
   "outputs": [],
   "source": []
  }
 ],
 "metadata": {
  "kernelspec": {
   "display_name": "Python 2",
   "language": "python",
   "name": "python2"
  },
  "language_info": {
   "codemirror_mode": {
    "name": "ipython",
    "version": 2
   },
   "file_extension": ".py",
   "mimetype": "text/x-python",
   "name": "python",
   "nbconvert_exporter": "python",
   "pygments_lexer": "ipython2",
   "version": "2.7.12"
  }
 },
 "nbformat": 4,
 "nbformat_minor": 2
}
